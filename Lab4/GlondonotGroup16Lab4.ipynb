{
  "nbformat": 4,
  "nbformat_minor": 0,
  "metadata": {
    "colab": {
      "provenance": [],
      "include_colab_link": true
    },
    "kernelspec": {
      "name": "python3",
      "display_name": "Python 3"
    },
    "language_info": {
      "name": "python"
    }
  },
  "cells": [
    {
      "cell_type": "markdown",
      "metadata": {
        "id": "view-in-github",
        "colab_type": "text"
      },
      "source": [
        "<a href=\"https://colab.research.google.com/github/glondonot/AlgorithmsUN2023I/blob/main/Lab4/GlondonotGroup16Lab4.ipynb\" target=\"_parent\"><img src=\"https://colab.research.google.com/assets/colab-badge.svg\" alt=\"Open In Colab\"/></a>"
      ]
    },
    {
      "cell_type": "markdown",
      "metadata": {
        "id": "N1ok_-56OjB1"
      },
      "source": [
        "# I Solving the Sum of Two Digits Programming Challenge"
      ]
    },
    {
      "cell_type": "markdown",
      "metadata": {
        "id": "MMY7kmDSO0KM"
      },
      "source": [
        "## C++"
      ]
    },
    {
      "cell_type": "code",
      "metadata": {
        "colab": {
          "base_uri": "https://localhost:8080/"
        },
        "id": "2pGGf9BkPNIk",
        "outputId": "292a8e36-f422-4cfd-cb33-8885b92642cc"
      },
      "source": [
        "%%writefile APlusB.cpp\n",
        "#include <iostream>\n",
        "\n",
        "int sum_of_two_digits(int first_digit, int second_digit) {\n",
        "    return first_digit + second_digit;\n",
        "}\n",
        "\n",
        "int main() {\n",
        "    int a = 0;\n",
        "    int b = 0;\n",
        "    std::cin >> a;\n",
        "    std::cin >> b;\n",
        "    std::cout << sum_of_two_digits(a, b);\n",
        "    return 0;\n",
        "}"
      ],
      "execution_count": null,
      "outputs": [
        {
          "output_type": "stream",
          "name": "stdout",
          "text": [
            "Overwriting APlusB.cpp\n"
          ]
        }
      ]
    },
    {
      "cell_type": "code",
      "metadata": {
        "colab": {
          "base_uri": "https://localhost:8080/"
        },
        "id": "0G3ZKOYAPXSU",
        "outputId": "549168b6-4c9c-4407-d3f9-9b9a7967589a"
      },
      "source": [
        "!g++ APlusB.cpp -o APlusB\n",
        "!./APlusB"
      ],
      "execution_count": null,
      "outputs": [
        {
          "output_type": "stream",
          "name": "stdout",
          "text": [
            "^C\n"
          ]
        }
      ]
    },
    {
      "cell_type": "markdown",
      "metadata": {
        "id": "iNkG2HqfTl9c"
      },
      "source": [
        "### Test input output files"
      ]
    },
    {
      "cell_type": "code",
      "metadata": {
        "colab": {
          "base_uri": "https://localhost:8080/"
        },
        "id": "aTzU2efzMxly",
        "outputId": "0f00f967-3d67-40ab-f606-80ac32be641a"
      },
      "source": [
        "%%writefile input1.txt\n",
        "2 7"
      ],
      "execution_count": null,
      "outputs": [
        {
          "output_type": "stream",
          "name": "stdout",
          "text": [
            "Writing input1.txt\n"
          ]
        }
      ]
    },
    {
      "cell_type": "code",
      "metadata": {
        "colab": {
          "base_uri": "https://localhost:8080/"
        },
        "id": "zBJ0Gc0NQRet",
        "outputId": "df3ec5a5-ca4e-4a98-80d4-f74af115db67"
      },
      "source": [
        "%%writefile output1.txt\n",
        "9"
      ],
      "execution_count": null,
      "outputs": [
        {
          "output_type": "stream",
          "name": "stdout",
          "text": [
            "Writing output1.txt\n"
          ]
        }
      ]
    },
    {
      "cell_type": "code",
      "metadata": {
        "colab": {
          "base_uri": "https://localhost:8080/"
        },
        "id": "IjEcIx63PJAN",
        "outputId": "969d7497-31d8-40a2-da43-be4a843d4523"
      },
      "source": [
        "%%writefile input2.txt\n",
        "-5 -2"
      ],
      "execution_count": null,
      "outputs": [
        {
          "output_type": "stream",
          "name": "stdout",
          "text": [
            "Writing input2.txt\n"
          ]
        }
      ]
    },
    {
      "cell_type": "code",
      "metadata": {
        "colab": {
          "base_uri": "https://localhost:8080/"
        },
        "id": "Up9gOrxURTmd",
        "outputId": "fedf14ca-e50d-44b3-b0a0-96b67d44ad4b"
      },
      "source": [
        "%%writefile output2.txt\n",
        "-7"
      ],
      "execution_count": null,
      "outputs": [
        {
          "output_type": "stream",
          "name": "stdout",
          "text": [
            "Writing output2.txt\n"
          ]
        }
      ]
    },
    {
      "cell_type": "code",
      "metadata": {
        "colab": {
          "base_uri": "https://localhost:8080/"
        },
        "id": "PST6G-s-Pwgc",
        "outputId": "0b57687b-c16f-487b-dd0a-739a5905aad1"
      },
      "source": [
        "!./APlusB < input1.txt"
      ],
      "execution_count": null,
      "outputs": [
        {
          "output_type": "stream",
          "name": "stdout",
          "text": [
            "9"
          ]
        }
      ]
    },
    {
      "cell_type": "code",
      "metadata": {
        "colab": {
          "base_uri": "https://localhost:8080/"
        },
        "id": "cKxZOjSlRfIN",
        "outputId": "d85bf992-e7b9-4d70-efe3-6abc56656615"
      },
      "source": [
        "!./APlusB < input2.txt"
      ],
      "execution_count": null,
      "outputs": [
        {
          "output_type": "stream",
          "name": "stdout",
          "text": [
            "-7"
          ]
        }
      ]
    },
    {
      "cell_type": "markdown",
      "metadata": {
        "id": "Qw2TQWCCUwqk"
      },
      "source": [
        "### Comparing files with grep\n",
        "\n",
        "https://askubuntu.com/questions/546796/comparing-two-text-files"
      ]
    },
    {
      "cell_type": "code",
      "metadata": {
        "id": "WVIaAmMKU4QM"
      },
      "source": [
        "!grep -xvFf output1.txt output1.txt "
      ],
      "execution_count": null,
      "outputs": []
    },
    {
      "cell_type": "code",
      "metadata": {
        "colab": {
          "base_uri": "https://localhost:8080/"
        },
        "id": "MQU8gPPjQuYO",
        "outputId": "5214f304-a12a-4750-8c55-df54b5a1e3d2"
      },
      "source": [
        "!grep -xvFf output1.txt output2.txt "
      ],
      "execution_count": null,
      "outputs": [
        {
          "output_type": "stream",
          "name": "stdout",
          "text": [
            "-7\n"
          ]
        }
      ]
    },
    {
      "cell_type": "code",
      "metadata": {
        "colab": {
          "base_uri": "https://localhost:8080/"
        },
        "id": "jYL9OuYBTD_l",
        "outputId": "b6653813-cf3d-47ec-fa1d-a5f82bf036b1"
      },
      "source": [
        "!grep -xvFf output2.txt output1.txt "
      ],
      "execution_count": null,
      "outputs": [
        {
          "output_type": "stream",
          "name": "stdout",
          "text": [
            "9\n"
          ]
        }
      ]
    },
    {
      "cell_type": "code",
      "metadata": {
        "id": "Jlja0Xm4TX9M"
      },
      "source": [
        "!./APlusB <input1.txt> ctest1.txt\n",
        "!grep -xvFf output1.txt ctest1.txt"
      ],
      "execution_count": null,
      "outputs": []
    },
    {
      "cell_type": "code",
      "metadata": {
        "id": "g9OIUZA_QLCQ"
      },
      "source": [
        "!./APlusB <input2.txt> ctest2.txt\n",
        "!grep -xvFf output2.txt ctest2.txt"
      ],
      "execution_count": null,
      "outputs": []
    },
    {
      "cell_type": "markdown",
      "metadata": {
        "id": "3BgOaDjUVJk6"
      },
      "source": [
        "## Python"
      ]
    },
    {
      "cell_type": "code",
      "metadata": {
        "colab": {
          "base_uri": "https://localhost:8080/"
        },
        "id": "DBvl-T0CTN_8",
        "outputId": "66ac045f-ab9d-4774-decc-2a8bae3e38b1"
      },
      "source": [
        "%%writefile sum.py\n",
        "# python3\n",
        "\n",
        "def sum_of_two_digits(first_digit, second_digit):\n",
        "    return first_digit + second_digit\n",
        "\n",
        "if __name__ == '__main__':\n",
        "    a, b = map(int, input().split())\n",
        "    print(sum_of_two_digits(a, b))"
      ],
      "execution_count": null,
      "outputs": [
        {
          "output_type": "stream",
          "name": "stdout",
          "text": [
            "Writing sum.py\n"
          ]
        }
      ]
    },
    {
      "cell_type": "code",
      "metadata": {
        "colab": {
          "base_uri": "https://localhost:8080/"
        },
        "id": "QKoKM11_WGyF",
        "outputId": "ede77ac2-df34-44aa-c822-503263f411ec"
      },
      "source": [
        "!python sum.py"
      ],
      "execution_count": null,
      "outputs": [
        {
          "output_type": "stream",
          "name": "stdout",
          "text": [
            "Traceback (most recent call last):\n",
            "  File \"/content/sum.py\", line 7, in <module>\n",
            "    a, b = map(int, input().split())\n",
            "KeyboardInterrupt\n",
            "^C\n"
          ]
        }
      ]
    },
    {
      "cell_type": "code",
      "metadata": {
        "id": "cocFbPRTWrqt"
      },
      "source": [
        "!python sum.py <input1.txt> ptest1.txt\n",
        "!grep -xvFf output1.txt ptest1.txt"
      ],
      "execution_count": null,
      "outputs": []
    },
    {
      "cell_type": "code",
      "metadata": {
        "id": "MorKTa-XXASN"
      },
      "source": [
        "!python sum.py <input2.txt> ptest2.txt\n",
        "!grep -xvFf output2.txt ptest2.txt"
      ],
      "execution_count": null,
      "outputs": []
    },
    {
      "cell_type": "markdown",
      "metadata": {
        "id": "uvP-mOubW_5F"
      },
      "source": [
        "# II Solving The Maximum Pairwise Product Programming Challenge in C++"
      ]
    },
    {
      "cell_type": "markdown",
      "metadata": {
        "id": "C12yoFR6Xonl"
      },
      "source": [
        "## C++"
      ]
    },
    {
      "cell_type": "code",
      "metadata": {
        "colab": {
          "base_uri": "https://localhost:8080/"
        },
        "id": "YL4qJX3tXxdd",
        "outputId": "c0d324b3-102e-44a5-e992-7547e3cbb524"
      },
      "source": [
        "%%writefile max_pairwise_product.cpp\n",
        "#include <iostream>\n",
        "#include <vector>\n",
        "#include <algorithm>\n",
        "\n",
        "int MaxPairwiseProduct(const std::vector<int>& numbers) {\n",
        "    int max_product = 0;\n",
        "    int n = numbers.size();\n",
        "\n",
        "    for (int first = 0; first < n; ++first) {\n",
        "        for (int second = first + 1; second < n; ++second) {\n",
        "            max_product = std::max(max_product,\n",
        "                numbers[first] * numbers[second]);\n",
        "        }\n",
        "    }\n",
        "\n",
        "    return max_product;\n",
        "}\n",
        "\n",
        "int main() {\n",
        "    int n;\n",
        "    std::cin >> n;\n",
        "    std::vector<int> numbers(n);\n",
        "    for (int i = 0; i < n; ++i) {\n",
        "        std::cin >> numbers[i];\n",
        "    }\n",
        "\n",
        "    std::cout << MaxPairwiseProduct(numbers) << \"\\n\";\n",
        "    return 0;\n",
        "}\n"
      ],
      "execution_count": null,
      "outputs": [
        {
          "output_type": "stream",
          "name": "stdout",
          "text": [
            "Writing max_pairwise_product.cpp\n"
          ]
        }
      ]
    },
    {
      "cell_type": "code",
      "metadata": {
        "colab": {
          "base_uri": "https://localhost:8080/"
        },
        "id": "KGxaEjvWX__O",
        "outputId": "b57cf0fb-0e30-40c4-c41b-a074139811e8"
      },
      "source": [
        "!g++ max_pairwise_product.cpp -o max_pairwise_product\n",
        "!./max_pairwise_product"
      ],
      "execution_count": null,
      "outputs": [
        {
          "output_type": "stream",
          "name": "stdout",
          "text": [
            "^C\n"
          ]
        }
      ]
    },
    {
      "cell_type": "markdown",
      "metadata": {
        "id": "e7KhxHGNS3i0"
      },
      "source": [
        "### Test 1: Small numbers"
      ]
    },
    {
      "cell_type": "code",
      "metadata": {
        "colab": {
          "base_uri": "https://localhost:8080/"
        },
        "id": "e1mmTzBgShT-",
        "outputId": "ac41b572-b03a-4285-ec40-caea9bc6a1e8"
      },
      "source": [
        "%%writefile input1.txt\n",
        "10\n",
        "2 3 4 5 6 7 8 9 10 11"
      ],
      "execution_count": null,
      "outputs": [
        {
          "output_type": "stream",
          "name": "stdout",
          "text": [
            "Overwriting input1.txt\n"
          ]
        }
      ]
    },
    {
      "cell_type": "code",
      "metadata": {
        "colab": {
          "base_uri": "https://localhost:8080/"
        },
        "id": "vy_uI0x7TCId",
        "outputId": "dc1e3ea3-d193-43f9-845e-a49523f5fa74"
      },
      "source": [
        "!./max_pairwise_product < input1.txt"
      ],
      "execution_count": null,
      "outputs": [
        {
          "output_type": "stream",
          "name": "stdout",
          "text": [
            "110\n"
          ]
        }
      ]
    },
    {
      "cell_type": "markdown",
      "metadata": {
        "id": "IeZ3kTjpYmR9"
      },
      "source": [
        "### Test 2: largest input numbers 200000 200000 in the input"
      ]
    },
    {
      "cell_type": "code",
      "metadata": {
        "colab": {
          "base_uri": "https://localhost:8080/"
        },
        "id": "LQNlZqaqYt7U",
        "outputId": "4b955e39-f76f-43f5-ff84-13b171508630"
      },
      "source": [
        "%%writefile input2.txt\n",
        "6\n",
        "1 3 200000 9 200000 23"
      ],
      "execution_count": null,
      "outputs": [
        {
          "output_type": "stream",
          "name": "stdout",
          "text": [
            "Overwriting input2.txt\n"
          ]
        }
      ]
    },
    {
      "cell_type": "code",
      "metadata": {
        "colab": {
          "base_uri": "https://localhost:8080/"
        },
        "id": "2Wad2VZUZDxR",
        "outputId": "f68bf405-0cde-4ece-98f5-57f9f8b2f825"
      },
      "source": [
        "!./max_pairwise_product < input2.txt"
      ],
      "execution_count": null,
      "outputs": [
        {
          "output_type": "stream",
          "name": "stdout",
          "text": [
            "1345294336\n"
          ]
        }
      ]
    },
    {
      "cell_type": "markdown",
      "metadata": {
        "id": "H2SC0Qt5HCzz"
      },
      "source": [
        "Changing the variables to long long"
      ]
    },
    {
      "cell_type": "code",
      "metadata": {
        "colab": {
          "base_uri": "https://localhost:8080/"
        },
        "id": "MPcmsxiQZSfE",
        "outputId": "5fba0ebb-9bbd-4f40-af91-108032dd46e8"
      },
      "source": [
        "%%writefile max_pairwise_product_long.cpp\n",
        "#include <iostream>\n",
        "#include <vector>\n",
        "#include <algorithm>\n",
        "\n",
        "long long MaxPairwiseProduct(const std::vector<int>& numbers) {\n",
        "    long long max_product = 0LL;\n",
        "\t  long long aux_product = 0LL;\n",
        "    int n = numbers.size();\n",
        "\n",
        "    for (int first = 0; first < n; ++first) {\n",
        "        for (int second = first + 1; second < n; ++second) {\n",
        "\t\t\t       aux_product =  (long long) numbers[first] * numbers[second];\n",
        "            if ( max_product < aux_product)  {\n",
        "\t\t\t\t        max_product = aux_product;\n",
        "             }\n",
        "        }\n",
        "    }\n",
        "\n",
        "    return max_product;\n",
        "}\n",
        "\n",
        "int main() {\n",
        "    int n;\n",
        "    std::cin >> n;\n",
        "    std::vector<int> numbers(n);\n",
        "    for (int i = 0; i < n; ++i) {\n",
        "        std::cin >> numbers[i];\n",
        "    }\n",
        "\n",
        "    std::cout << MaxPairwiseProduct(numbers) << \"\\n\";\n",
        "    return 0;\n",
        "}\n"
      ],
      "execution_count": null,
      "outputs": [
        {
          "output_type": "stream",
          "name": "stdout",
          "text": [
            "Writing max_pairwise_product_long.cpp\n"
          ]
        }
      ]
    },
    {
      "cell_type": "code",
      "metadata": {
        "colab": {
          "base_uri": "https://localhost:8080/"
        },
        "id": "I5pCeOG1Zm7s",
        "outputId": "cc9cfd27-2bb7-4c46-aaa0-f9773899feff"
      },
      "source": [
        "!g++ max_pairwise_product_long.cpp -o max_pairwise_product_long\n",
        "!./max_pairwise_product_long < input1.txt\n",
        "!./max_pairwise_product_long < input2.txt"
      ],
      "execution_count": null,
      "outputs": [
        {
          "output_type": "stream",
          "name": "stdout",
          "text": [
            "110\n",
            "40000000000\n"
          ]
        }
      ]
    },
    {
      "cell_type": "markdown",
      "metadata": {
        "id": "XPVHkHxH6_7s"
      },
      "source": [
        "### Test 3  stress tests 20  times  random n in [2, 20] "
      ]
    },
    {
      "cell_type": "code",
      "source": [
        "%%writefile random_stress_test.cpp\n",
        "#include <stdio.h>\n",
        "#include <stdlib.h>\n",
        "#include <iostream>\n",
        "#include <fstream>\n",
        "#include <cstdlib>\n",
        "\n",
        "using namespace std;\n",
        "\n",
        "int main() {\n",
        "    ofstream MyFile(\"input3.txt\");\n",
        "    int n = 20;\n",
        "    srand(time_t(0));\n",
        "    MyFile << 20 << endl;\n",
        "    // Generate n random numbers\n",
        "    for (int i = 0; i < n; i++) {\n",
        "        int num = rand() % 19;\n",
        "        MyFile << num << \" \" ;\n",
        "    }\n",
        "    MyFile.close();\n",
        "    return 0;\n",
        "}"
      ],
      "metadata": {
        "colab": {
          "base_uri": "https://localhost:8080/"
        },
        "id": "7vAALyPt3lAy",
        "outputId": "e43c8e37-f5df-4b30-e3fe-6108679a2290"
      },
      "execution_count": null,
      "outputs": [
        {
          "output_type": "stream",
          "name": "stdout",
          "text": [
            "Writing random_stress_test.cpp\n"
          ]
        }
      ]
    },
    {
      "cell_type": "code",
      "source": [
        "!g++ random_stress_test.cpp -o random_stress_test\n",
        "!./random_stress_test"
      ],
      "metadata": {
        "id": "mw10J2AL3ty9"
      },
      "execution_count": null,
      "outputs": []
    },
    {
      "cell_type": "code",
      "source": [
        "file1 = open(\"input3.txt\", \"r\")\n",
        "file1.readlines()"
      ],
      "metadata": {
        "colab": {
          "base_uri": "https://localhost:8080/"
        },
        "id": "22Z0fZraVFI4",
        "outputId": "10f50cc9-29cb-4233-b35d-c08a0a3e1fa9"
      },
      "execution_count": null,
      "outputs": [
        {
          "output_type": "execute_result",
          "data": {
            "text/plain": [
              "['20\\n', '2 15 3 3 10 8 10 11 2 7 1 9 1 10 1 10 7 17 5 9 ']"
            ]
          },
          "metadata": {},
          "execution_count": 28
        }
      ]
    },
    {
      "cell_type": "code",
      "source": [
        "!./max_pairwise_product_long < input3.txt"
      ],
      "metadata": {
        "colab": {
          "base_uri": "https://localhost:8080/"
        },
        "id": "1K6Chbn2-d4X",
        "outputId": "4d85585d-2fd2-4a9f-e575-93384781818e"
      },
      "execution_count": null,
      "outputs": [
        {
          "output_type": "stream",
          "name": "stdout",
          "text": [
            "255\n"
          ]
        }
      ]
    },
    {
      "cell_type": "markdown",
      "metadata": {
        "id": "9z9yr5QkeyJF"
      },
      "source": [
        "### Test 4  time test  measure the execution time running with the largest worst case file (200000 increasing numbers, 200000 and 200000 the end) "
      ]
    },
    {
      "cell_type": "code",
      "metadata": {
        "id": "oLiMjbAIfPlX",
        "colab": {
          "base_uri": "https://localhost:8080/"
        },
        "outputId": "b004ffc4-952a-4761-ae77-90409a86150a"
      },
      "source": [
        "%%writefile Test2Write.cpp\n",
        "\n",
        "#include <iostream>\n",
        "#include <fstream>\n",
        "#include <cstdlib>\n",
        "\n",
        "using namespace std;\n",
        "\n",
        "int main() {\n",
        "  // Create and open a text file\n",
        "  ofstream MyFile(\"input3.txt\");\n",
        "\n",
        " MyFile << 200000 <<\"\\n\";  // n \n",
        " for (int i=1; i < 200001; i++){\n",
        "     MyFile << i <<\" \";\n",
        " }\n",
        "  \n",
        "  // Close the file\n",
        "  MyFile.close();\n",
        "}"
      ],
      "execution_count": null,
      "outputs": [
        {
          "output_type": "stream",
          "name": "stdout",
          "text": [
            "Writing Test2Write.cpp\n"
          ]
        }
      ]
    },
    {
      "cell_type": "code",
      "metadata": {
        "id": "EH25TkOkZfD9"
      },
      "source": [
        "!g++ Test2Write.cpp -o Test2Write\n",
        "!./Test2Write"
      ],
      "execution_count": null,
      "outputs": []
    },
    {
      "cell_type": "markdown",
      "metadata": {
        "id": "JB6f03qO-lj9"
      },
      "source": [
        "Measure time\n",
        "\n",
        "https://askubuntu.com/questions/53444/how-can-i-measure-the-execution-time-of-a-terminal-process"
      ]
    },
    {
      "cell_type": "code",
      "metadata": {
        "colab": {
          "base_uri": "https://localhost:8080/"
        },
        "id": "6p2QLEr576zk",
        "outputId": "ab1c6891-9d3b-4470-a183-5ec8567941a4"
      },
      "source": [
        "!g++ max_pairwise_product_long.cpp -o max_pairwise_product_long\n",
        "!time ./max_pairwise_product_long < input3.txt"
      ],
      "execution_count": null,
      "outputs": [
        {
          "output_type": "stream",
          "name": "stdout",
          "text": [
            "^C\n"
          ]
        }
      ]
    },
    {
      "cell_type": "markdown",
      "metadata": {
        "id": "AmZeB2wYjxy5"
      },
      "source": [
        "##### Calculate  the number of instructions executed by the algorithm as a function of n, add in each line a comment with the number of instructions that are executed in that line \n",
        "\n",
        "```cpp\n",
        " int main() {                         //N inst exec by line executed  \n",
        "   \n",
        "    int n;                            //1                      \n",
        "    std::cin >> n;                    //1\n",
        "                                              \n",
        "    std::vector<int> numbers(n);      //n    init vector\n",
        "    .\n",
        "    .\n",
        " }\n",
        "\n",
        "```"
      ]
    },
    {
      "cell_type": "code",
      "metadata": {
        "colab": {
          "base_uri": "https://localhost:8080/"
        },
        "id": "djGX3FL13g9b",
        "outputId": "790e037a-4aa1-4bc4-8983-12c0c384009f"
      },
      "source": [
        "%%writefile test_init_vectors.cpp\n",
        "#include <iostream>\n",
        "#include <vector>\n",
        "#include <algorithm>\n",
        "int main() {                                                               \n",
        "    int n = 10;                                                                                                                            //1\n",
        "    std::vector<int> numbers(n);                                            \n",
        "    for (int i = 0; i < n; ++i) {                                           \n",
        "        std::cout << numbers[i];                                             \n",
        "    }\n",
        "\n",
        "    std::cout << \"\\n\";                       \n",
        "    return 0;                                                              \n",
        "}  "
      ],
      "execution_count": null,
      "outputs": [
        {
          "output_type": "stream",
          "name": "stdout",
          "text": [
            "Writing test_init_vectors.cpp\n"
          ]
        }
      ]
    },
    {
      "cell_type": "code",
      "metadata": {
        "colab": {
          "base_uri": "https://localhost:8080/"
        },
        "id": "44gZcuE237-1",
        "outputId": "9c45246a-f46f-4ef7-92e7-79626dcd671e"
      },
      "source": [
        "!g++ test_init_vectors.cpp -o test_init_vectors\n",
        "!./test_init_vectors"
      ],
      "execution_count": null,
      "outputs": [
        {
          "output_type": "stream",
          "name": "stdout",
          "text": [
            "0000000000\n"
          ]
        }
      ]
    },
    {
      "cell_type": "code",
      "metadata": {
        "colab": {
          "base_uri": "https://localhost:8080/"
        },
        "id": "uG6Mv-Pwlkii",
        "outputId": "2ed2c8e3-d60d-4bef-8da1-72a65e06ec26"
      },
      "source": [
        "%%writefile max_pairwise_product_long.cpp\n",
        "#include <iostream>\n",
        "#include <vector>\n",
        "#include <algorithm>\n",
        "\n",
        "long long MaxPairwiseProduct(const std::vector<int>& numbers) {              //N inst exec by line executed \n",
        "    long long max_product = 0LL;                                             //1                                          \n",
        "\t  long long aux_product = 0LL;                                             //1 \n",
        "    int n = numbers.size();                                                  //1 \n",
        "                                                                             \n",
        "    for (int first = 0; first < n; ++first) {                                //1+2n  \n",
        "        for (int second = first + 1; second < n; ++second) {                 //n + (n-1)n \n",
        "\t\t\t       aux_product =  (long long) numbers[first] * numbers[second];    //(n-1)n/2 \n",
        "            if (max_product < aux_product)  {                                //(n-1)n/2 \n",
        "\t\t\t\t        max_product = aux_product;                                   //[0, (n-1)n/2] \n",
        "             }\n",
        "        }\n",
        "    }\n",
        "                                                                             // -------------- \n",
        "    return max_product;                                                      // 4 + 3n + [2(n-1)n, 2.5 (n-1)n] \n",
        "}\n",
        "\n",
        "int main() {                                              //N inst exec by line executed \n",
        "    int n;                                                //1  \n",
        "    std::cin >> n;                                        //1\n",
        "    std::vector<int> numbers(n);                          //n\n",
        "    for (int i = 0; i < n; ++i) {                         //1 + 2n\n",
        "        std::cin >> numbers[i];                           //n\n",
        "    }\n",
        "\n",
        "    std::cout << MaxPairwiseProduct(numbers) << \"\\n\";     //1 + 1  + 4 + 3n + [2(n-1)n, 2.5 (n-1)n]\n",
        "    return 0;                                             // -------------- \n",
        "}                                                         // 9 + 7n + [2(n-1)n, 2.5 (n-1)n]\n"
      ],
      "execution_count": null,
      "outputs": [
        {
          "output_type": "stream",
          "name": "stdout",
          "text": [
            "Overwriting max_pairwise_product_long.cpp\n"
          ]
        }
      ]
    },
    {
      "cell_type": "markdown",
      "metadata": {
        "id": "0vTsUg8OwcHs"
      },
      "source": [
        "Count executed intructions in code and verify with inputs 1, 2 and 3"
      ]
    },
    {
      "cell_type": "code",
      "metadata": {
        "colab": {
          "base_uri": "https://localhost:8080/"
        },
        "id": "CuRKkqQc137V",
        "outputId": "f9facd18-2c98-434a-e46e-dd8941e13692"
      },
      "source": [
        "%%writefile max_pairwise_product_long_execints.cpp\n",
        "#include <iostream>\n",
        "#include <vector>\n",
        "#include <algorithm>\n",
        "\n",
        "long long MaxPairwiseProduct(const std::vector<int>& numbers, long long &execints) {              //N inst exec by line executed \n",
        "    \n",
        "    long long m = 0LL;                                                       //1\n",
        "    \n",
        "    long long max_product = 0LL;                                             //1\n",
        "    execints++;\n",
        "\n",
        "\t  long long aux_product = 0LL;                                             //1\n",
        "    execints++;\n",
        "\n",
        "    int n = numbers.size();                                                  //1 \n",
        "    execints++;\n",
        "\n",
        "    execints++;                                                                         \n",
        "    for (int first = 0; first < n; ++first) {                                //1+2n  \n",
        "        execints += 2;\n",
        "\n",
        "        long long m = 0LL;\n",
        "\n",
        "        execints++;                                    \n",
        "        for (int second = first + 1; second < n; ++second) {                 //n+ (n-1)n \n",
        "            execints += 2;                                                \n",
        "\n",
        "\t\t\t      aux_product =  (long long) numbers[first] * numbers[second];    //(n-1)n/2 \n",
        "            execints++; \n",
        "\n",
        "            execints++; \n",
        "            if ( max_product < aux_product)  {                               //(n-1)n/2 \n",
        "                       \n",
        "\t\t\t\t        max_product = aux_product;                                   //[0, (n-1)n/2] \n",
        "                execints++; \n",
        "                m++;\n",
        "             }\n",
        "        }\n",
        "        if ( (first <= 10) || (n- first <= 10)) std::cout << m << \"\\n\";\n",
        "    }\n",
        "                                                                            // -------------- \n",
        "    return max_product;                                                     // 4 + 3n + [2(n-1)n, 2.5 (n-1)n] \n",
        "}\n",
        "\n",
        "int main() {                                                 //N inst exec by line executed \n",
        "    long long execints =0LL;\n",
        "\n",
        "    int n;                                                   //1\n",
        "    execints++;                                                              \n",
        "    \n",
        "    std::cin >> n;                                           //1\n",
        "    execints++;\n",
        "\n",
        "    std::vector<int> numbers(n);                             //n\n",
        "    execints += n;\n",
        "    \n",
        "    execints++;\n",
        "    for (int i = 0; i < n; ++i) {                            //1 + 2n\n",
        "        execints += 2;\n",
        "\n",
        "        std::cin >> numbers[i];\n",
        "        execints++;                                          //n\n",
        "    }\n",
        "    \n",
        "    //std::cout << MaxPairwiseProduct(numbers) << \"\\n\";      //1 + 1  + 4 + 3n + [2(n-1)n, 2.5 (n-1)n]\n",
        "\n",
        "    execints++;\n",
        "    int M = MaxPairwiseProduct(numbers,execints);\n",
        "\n",
        "    execints++;\n",
        "    std::cout <<  execints << \"\\n\";                       \n",
        "    return 0;                                                // -------------- \n",
        "}                                                            // 9 + 7n + [2(n-1)n, 2.5 (n-1)n]"
      ],
      "execution_count": null,
      "outputs": [
        {
          "output_type": "stream",
          "name": "stdout",
          "text": [
            "Writing max_pairwise_product_long_execints.cpp\n"
          ]
        }
      ]
    },
    {
      "cell_type": "code",
      "metadata": {
        "colab": {
          "base_uri": "https://localhost:8080/"
        },
        "id": "Kuvm1C05ly2a",
        "outputId": "c6a3f723-9c3a-4461-dcb1-78749a4ca8d5"
      },
      "source": [
        "!g++ max_pairwise_product_long_execints.cpp -o max_pairwise_product_long_execints\n",
        "!./max_pairwise_product_long_execints < input1.txt\n",
        "!./max_pairwise_product_long_execints < input2.txt\n",
        "!./max_pairwise_product_long_execints < input3.txt"
      ],
      "execution_count": null,
      "outputs": [
        {
          "output_type": "stream",
          "name": "stdout",
          "text": [
            "9\n",
            "4\n",
            "3\n",
            "3\n",
            "2\n",
            "2\n",
            "2\n",
            "2\n",
            "1\n",
            "0\n",
            "287\n",
            "2\n",
            "1\n",
            "2\n",
            "0\n",
            "0\n",
            "0\n",
            "116\n",
            "199999\n",
            "100000\n",
            "66667\n",
            "50000\n",
            "40000\n",
            "33334\n",
            "28572\n",
            "25000\n",
            "22223\n",
            "20000\n",
            "18182\n",
            "^C\n"
          ]
        }
      ]
    },
    {
      "cell_type": "markdown",
      "metadata": {
        "id": "L_uaamxeAHK7"
      },
      "source": [
        "The number of instructions executed by the algooirithm with a list of size $n$ is  \n",
        "\n",
        "$$T = 9 + 7n + [2(n-1)n, 2.5 (n-1)n]$$\n",
        "\n",
        "It depends on the size of the lists and  the order of the list.\n",
        "\n",
        "For the input1.txt \n",
        "```\n",
        "10\n",
        "1 2 3 4 5 6 7 8 9 10\n",
        "```\n",
        "$$T = 9 + 7(10) + 2(9)(10) +  9 + 5 + 4 + 3 + 2 + 2 + 2 + 2 + 1 + 0  = 289 $$\n",
        "\n",
        "For the input2.txt \n",
        "```\n",
        "6\n",
        "1 3 200000 9 200000 23\n",
        "```\n",
        "$$T = 9 + 7(6) + 2(5)(6)  +  2 + 1 + 2 + 0 + 0 + 0 = 116 $$\n",
        "\n",
        "\n",
        "For the input3.txt that is the worst case (n=200000 and list in incresing order)\n",
        "\n",
        "```\n",
        "200000\n",
        "1 2 3 4 5 6 7 8 9 10 ... 199998 199999 200000\n",
        "```\n",
        "\n",
        "$$\n",
        "\\begin{array}{ll}\n",
        "T &= 9 + 7(200000) + (2)(199999)(200000)  + (199999 +\n",
        "100000 + 66667 +50000 \\cdots 2 + 2 + 1)\\\\\n",
        "&= 80003672077  \\\\\n",
        "  &< 9 + 7(200000) + (2.5)(199999)(200000) \\\\\n",
        "  & = 100000900009\n",
        "\\end{array}\n",
        "  $$"
      ]
    },
    {
      "cell_type": "markdown",
      "metadata": {
        "id": "NXW7QkoBL6xH"
      },
      "source": [
        "Calculate estimated time by instruction and number of instructions by second"
      ]
    },
    {
      "cell_type": "code",
      "metadata": {
        "colab": {
          "base_uri": "https://localhost:8080/"
        },
        "id": "pKqB3i7dIxnc",
        "outputId": "87ac83d4-c722-4014-b44f-631ba47b7097"
      },
      "source": [
        "# Estimated time by instruction\n",
        "\n",
        "128/80003672077 \n"
      ],
      "execution_count": null,
      "outputs": [
        {
          "output_type": "execute_result",
          "data": {
            "text/plain": [
              "1.5999265618308827e-09"
            ]
          },
          "metadata": {},
          "execution_count": 38
        }
      ]
    },
    {
      "cell_type": "code",
      "metadata": {
        "colab": {
          "base_uri": "https://localhost:8080/"
        },
        "id": "18N1ouqeMhE1",
        "outputId": "a71999a1-65cb-4afc-afbb-f57d9c02834e"
      },
      "source": [
        "# Estimated number of instructions by second\n",
        "\n",
        "1/(128/80003672077) "
      ],
      "execution_count": null,
      "outputs": [
        {
          "output_type": "execute_result",
          "data": {
            "text/plain": [
              "625028688.1015625"
            ]
          },
          "metadata": {},
          "execution_count": 39
        }
      ]
    },
    {
      "cell_type": "markdown",
      "metadata": {
        "id": "CQufozXLNJwO"
      },
      "source": [
        "### Efficient solution"
      ]
    },
    {
      "cell_type": "markdown",
      "metadata": {
        "id": "nLcKBwbU0QsE"
      },
      "source": [
        "Add in each line a coment with the number of intstrcution that are executed in that line"
      ]
    },
    {
      "cell_type": "code",
      "metadata": {
        "id": "knls5Fh3NSt_",
        "colab": {
          "base_uri": "https://localhost:8080/"
        },
        "outputId": "8c7b7a2d-2b8f-43e2-da42-cb4ab564da5c"
      },
      "source": [
        "%%writefile efficient_solution.cpp\n",
        "#include <iostream>\n",
        "#include <vector>\n",
        "#include <algorithm>\n",
        "using namespace std;\n",
        "\n",
        "int main() {          //N inst exec by line executed\n",
        "    int m;            //1\n",
        "    cin >> m;         //1\n",
        "    vector<int> numbers(m);         //1\n",
        "    for (int i = 0; i < m; ++i) {         //1+2n\n",
        "        cin >> numbers[i];          //1\n",
        "    }\n",
        "\n",
        "    int n = numbers.size();         //1\n",
        "    int max_index1 = -1;          //1\n",
        "    for (int i = 0; i < n; ++i) {         //1+2n\n",
        "        if ((max_index1 == -1) || (numbers[i] > numbers[max_index1])) {         //1\n",
        "            max_index1 = i;         //1\n",
        "        }\n",
        "    }\n",
        "    int max_index2 = -1;          //1\n",
        "    for (int j = 0; j < n; ++j) {         //1+2n\n",
        "        if ((j != max_index1) && ((max_index2 == -1) || (numbers[j] > numbers[max_index2]))) {          //1\n",
        "            max_index2 = j;         //1\n",
        "        }\n",
        "    }\n",
        "    long long result = ((long long)(numbers[max_index1])) * numbers[max_index2];         //1\n",
        "    cout << result << endl;         //1\n",
        "    return 0;         //1\n",
        "}         // 1+1+1+(1+2n)+n+1+1+(1+2n)+(1+1)n+1+(1+2n)+(1+1)(n-1) = 11n+7"
      ],
      "execution_count": null,
      "outputs": [
        {
          "output_type": "stream",
          "name": "stdout",
          "text": [
            "Overwriting efficient_solution.cpp\n"
          ]
        }
      ]
    },
    {
      "cell_type": "markdown",
      "metadata": {
        "id": "-JCijbWxNSii"
      },
      "source": [
        "Test with inputs 1 and 2\n",
        "\n"
      ]
    },
    {
      "cell_type": "code",
      "metadata": {
        "id": "TrTGAfqlNVXT",
        "colab": {
          "base_uri": "https://localhost:8080/"
        },
        "outputId": "6b95ee93-3713-4734-fa23-caf5e681fc06"
      },
      "source": [
        "!g++ efficient_solution.cpp -o efficient_solution\n",
        "!./efficient_solution < input1.txt\n",
        "print(\"Executed instructions: \", str(11*10+7))\n",
        "!./efficient_solution < input2.txt\n",
        "print(\"Executed instructions: \", str(11*6+7))"
      ],
      "execution_count": null,
      "outputs": [
        {
          "output_type": "stream",
          "name": "stdout",
          "text": [
            "110\n",
            "Executed instructions:  117\n",
            "40000000000\n",
            "Executed instructions:  73\n"
          ]
        }
      ]
    },
    {
      "cell_type": "markdown",
      "metadata": {
        "id": "PRX51wADNR8b"
      },
      "source": [
        "Test and time it with input 3"
      ]
    },
    {
      "cell_type": "code",
      "metadata": {
        "id": "v4z7-Is_NRt7",
        "colab": {
          "base_uri": "https://localhost:8080/"
        },
        "outputId": "9169ce2e-b33c-41ce-9100-a625f2d7b0ac"
      },
      "source": [
        "!time ./efficient_solution < input3.txt\n",
        "print(\"Executed instructions: \", str(11*20+7))"
      ],
      "execution_count": null,
      "outputs": [
        {
          "output_type": "stream",
          "name": "stdout",
          "text": [
            "39999800000\n",
            "\n",
            "real\t0m0.054s\n",
            "user\t0m0.050s\n",
            "sys\t0m0.002s\n",
            "Executed instructions:  227\n"
          ]
        }
      ]
    },
    {
      "cell_type": "markdown",
      "metadata": {
        "id": "rpdfs0_TNZJf"
      },
      "source": [
        "20 stress tests"
      ]
    },
    {
      "cell_type": "code",
      "metadata": {
        "id": "Lu4tYcKzNcTT",
        "colab": {
          "base_uri": "https://localhost:8080/"
        },
        "outputId": "2479c09b-0177-4c01-a7af-76059d6a36b9"
      },
      "source": [
        "%%writefile efficient_solution_stress.cpp\n",
        "#include <iostream>\n",
        "#include <vector>\n",
        "#include <cstdlib>\n",
        "#include <ctime>\n",
        "#include <algorithm>\n",
        "using namespace std;\n",
        "\n",
        "int main() {          //N inst exec by line executed\n",
        "    srand(time(NULL));\n",
        "    long long ins = 1;\n",
        "    for (int i = 0; i < 20; ++i) {\n",
        "        ins+=2;      \n",
        "        int n = rand() % 19+4;    \n",
        "        ins++;\n",
        "        vector<int> numbers(n);    \n",
        "        ins+=n; \n",
        "        for (int j = 0; j < n; ++j) {    \n",
        "            ins+=2;\n",
        "            numbers[j] = rand() % 1000;  \n",
        "            ins++;\n",
        "        }\n",
        "\n",
        "        int index = 1;\n",
        "        ins++;\n",
        "        for(int j = 2; j < n; j++){\n",
        "            ins+=2;\n",
        "            ins++;\n",
        "            if(numbers[j] > numbers[index]){\n",
        "                index = j;\n",
        "                ins++;\n",
        "            }\n",
        "            int temp = numbers[index];\n",
        "            ins++;\n",
        "            numbers[index] = numbers[n - 1];\n",
        "            ins++;\n",
        "            numbers[n - 1] = temp;\n",
        "            ins++;\n",
        "        }\n",
        "        for(int j = 2; j < n - 1; j++){\n",
        "            ins+=2;\n",
        "            ins++;\n",
        "            if(numbers[j] > numbers[index]){\n",
        "                index = j;\n",
        "                ins++;\n",
        "            }\n",
        "            int temp = numbers[index];\n",
        "            ins++;\n",
        "            numbers[index] = numbers[n - 2];\n",
        "            ins++;\n",
        "            numbers[n - 2] = temp;\n",
        "            ins++;\n",
        "        }\n",
        "        long long ans = (long long)numbers[n-1] * numbers[n-2];\n",
        "        ins++;\n",
        "        for(int j = 0; j < n; j++){\n",
        "            ins+=2;\n",
        "            cout << numbers[j] << \" \";\n",
        "            ins++;\n",
        "        }\n",
        "        cout << \": MaxPairwiseProduct = \" << ans << \"\\n\";\n",
        "        ins++;\n",
        "    }\n",
        "    cout << \"\\nEXECUTED INSTRUCTIONS: \" << ins << endl;\n",
        "    return 0;\n",
        "}"
      ],
      "execution_count": null,
      "outputs": [
        {
          "output_type": "stream",
          "name": "stdout",
          "text": [
            "Writing efficient_solution_stress.cpp\n"
          ]
        }
      ]
    },
    {
      "cell_type": "markdown",
      "metadata": {
        "id": "L8U4151JNbxk"
      },
      "source": [
        "Count executed instructions in code and verify with inputs 1,2 and 3\n"
      ]
    },
    {
      "cell_type": "code",
      "metadata": {
        "id": "dh85RM8vNhFz",
        "colab": {
          "base_uri": "https://localhost:8080/"
        },
        "outputId": "7e064a0c-57b6-443c-cf6e-3bf9bfd5d0c7"
      },
      "source": [
        "!g++ efficient_solution_stress.cpp -o efficient_solution_stress\n",
        "!./efficient_solution_stress"
      ],
      "execution_count": null,
      "outputs": [
        {
          "output_type": "stream",
          "name": "stdout",
          "text": [
            "649 232 385 265 909 556 994 731 : MaxPairwiseProduct = 726614\n",
            "303 227 395 182 380 74 667 615 584 746 413 782 64 78 539 332 173 146 827 873 : MaxPairwiseProduct = 721971\n",
            "744 198 197 381 738 106 646 730 812 641 33 70 36 568 817 110 587 784 46 843 998 : MaxPairwiseProduct = 841314\n",
            "877 628 568 209 456 720 735 188 478 479 866 27 570 919 921 134 : MaxPairwiseProduct = 123414\n",
            "329 226 387 561 598 307 569 60 400 705 459 894 706 288 583 532 360 145 903 340 : MaxPairwiseProduct = 307020\n",
            "880 56 63 153 424 633 436 : MaxPairwiseProduct = 275988\n",
            "554 426 899 115 165 651 65 472 572 478 366 278 417 424 533 577 360 937 937 : MaxPairwiseProduct = 877969\n",
            "757 515 692 737 923 800 142 359 786 567 929 989 : MaxPairwiseProduct = 918781\n",
            "181 807 862 184 : MaxPairwiseProduct = 158608\n",
            "334 757 703 52 35 640 931 920 217 188 338 506 693 447 21 782 437 828 935 944 : MaxPairwiseProduct = 882640\n",
            "73 149 585 850 547 118 765 409 924 303 : MaxPairwiseProduct = 279972\n",
            "412 562 147 799 844 328 719 61 516 57 852 567 : MaxPairwiseProduct = 483084\n",
            "940 696 294 237 631 225 832 56 428 478 173 893 599 98 385 604 949 975 : MaxPairwiseProduct = 925275\n",
            "804 332 62 648 534 660 815 : MaxPairwiseProduct = 537900\n",
            "944 787 738 449 922 435 743 159 418 968 52 475 748 882 648 724 183 98 981 461 : MaxPairwiseProduct = 452241\n",
            "293 155 468 502 625 150 285 602 564 462 801 546 552 857 970 : MaxPairwiseProduct = 831290\n",
            "345 442 110 665 383 937 414 617 937 138 801 36 599 418 86 892 96 940 870 940 979 : MaxPairwiseProduct = 920260\n",
            "627 7 297 550 553 522 382 373 213 727 704 323 393 87 260 159 56 780 969 : MaxPairwiseProduct = 755820\n",
            "586 248 150 24 362 492 964 598 : MaxPairwiseProduct = 576472\n",
            "758 518 215 776 839 186 670 713 511 43 927 238 747 602 765 983 996 : MaxPairwiseProduct = 979068\n",
            "\n",
            "EXECUTED INSTRUCTIONS: 5207\n"
          ]
        }
      ]
    },
    {
      "cell_type": "markdown",
      "metadata": {
        "id": "K6ybgCmpNygr"
      },
      "source": [
        "Calculate estimated time by instruction and number of instructions by second"
      ]
    },
    {
      "cell_type": "code",
      "metadata": {
        "id": "kwe3G1O3Nz1w",
        "colab": {
          "base_uri": "https://localhost:8080/"
        },
        "outputId": "8435f3c5-02e8-406f-da18-176c653c4e2d"
      },
      "source": [
        "time_by_instruction = 0.38/2956223\n",
        "print(time_by_instruction)\n",
        "instructions_by_second = 1/time_by_instruction\n",
        "print(instructions_by_second)"
      ],
      "execution_count": null,
      "outputs": [
        {
          "output_type": "stream",
          "name": "stdout",
          "text": [
            "1.2854240021811615e-07\n",
            "7779534.2105263155\n"
          ]
        }
      ]
    },
    {
      "cell_type": "markdown",
      "metadata": {
        "id": "sc9nOLQrfTm0"
      },
      "source": [
        "### Super efficient solution\n",
        "\n",
        "Whitout storing the list in memory and whitout calling a function, add in each line a coment with the number of intstrcution that are executed in that line "
      ]
    },
    {
      "cell_type": "code",
      "metadata": {
        "id": "hBLt_xBQLy8E",
        "colab": {
          "base_uri": "https://localhost:8080/"
        },
        "outputId": "e3936d7c-068b-40ca-9cdc-7437b50cf193"
      },
      "source": [
        "%%writefile super_efficient_solution.cpp\n",
        "#include <iostream>\n",
        "#include <ostream>\n",
        "using namespace std;\n",
        "\n",
        "int main() {\n",
        "    int n;        //1\n",
        "    std::cin >> n;        //1\n",
        "    int max1 = 0, max2 = 0;         //2\n",
        "    for (int i = 0; i < n; ++i) {         //n+1\n",
        "        int x;        //1\n",
        "        std::cin >> x;        //1\n",
        "        if (x > max1) {        //1\n",
        "            max2 = max1;        //1\n",
        "            max1 = x;        //1\n",
        "        } else if (x > max2) {        //1\n",
        "            max2 = x;        //1\n",
        "        }\n",
        "    }\n",
        "    std::cout << (long long) max1 * max2 << std::endl;        //2\n",
        "    return 0;        //1\n",
        "}        //1+1+2+(n+1)+(1+1+1+1+1)n+2+1 = 6n+8"
      ],
      "execution_count": null,
      "outputs": [
        {
          "output_type": "stream",
          "name": "stdout",
          "text": [
            "Overwriting super_efficient_solution.cpp\n"
          ]
        }
      ]
    },
    {
      "cell_type": "markdown",
      "metadata": {
        "id": "683gc3roHqzb"
      },
      "source": [
        "Test with inputs 1 and 2\n",
        "\n",
        "\n",
        " "
      ]
    },
    {
      "cell_type": "code",
      "metadata": {
        "id": "b7d4LA8OIc2_",
        "colab": {
          "base_uri": "https://localhost:8080/"
        },
        "outputId": "1793c3c3-933d-4ab7-87c6-7f662d411bb0"
      },
      "source": [
        "!g++ super_efficient_solution.cpp -o super_efficient_solution\n",
        "!./super_efficient_solution < input1.txt\n",
        "print(\"Executed instructions: \", str(6*10+8))\n",
        "!./super_efficient_solution < input2.txt\n",
        "print(\"Executed instructions: \", str(6*6+8))"
      ],
      "execution_count": null,
      "outputs": [
        {
          "output_type": "stream",
          "name": "stdout",
          "text": [
            "110\n",
            "Executed instructions:  68\n",
            "40000000000\n",
            "Executed instructions:  44\n"
          ]
        }
      ]
    },
    {
      "cell_type": "markdown",
      "metadata": {
        "id": "36Ugn1odIeJz"
      },
      "source": [
        "Test and time it with input 3"
      ]
    },
    {
      "cell_type": "code",
      "metadata": {
        "id": "jDyMbCnxHqSN",
        "colab": {
          "base_uri": "https://localhost:8080/"
        },
        "outputId": "ae0dd2a1-b0ee-4c3a-c53f-0ea568a351fc"
      },
      "source": [
        "!time ./super_efficient_solution < input3.txt\n",
        "print(\"Executed instructions: \", str(6*20+8))"
      ],
      "execution_count": null,
      "outputs": [
        {
          "output_type": "stream",
          "name": "stdout",
          "text": [
            "39999800000\n",
            "\n",
            "real\t0m0.050s\n",
            "user\t0m0.048s\n",
            "sys\t0m0.002s\n",
            "Executed instructions:  128\n"
          ]
        }
      ]
    },
    {
      "cell_type": "markdown",
      "metadata": {
        "id": "bhqiKQG6fjKM"
      },
      "source": [
        "20 stress tests "
      ]
    },
    {
      "cell_type": "code",
      "metadata": {
        "id": "2KsiXKhALzwm",
        "colab": {
          "base_uri": "https://localhost:8080/"
        },
        "outputId": "bf7f77c9-acdc-46b0-fde1-9179e38c20ef"
      },
      "source": [
        "%%writefile super_efficient_solution_stress_test.cpp\n",
        "#include <iostream>\n",
        "#include <vector>\n",
        "#include <cstdlib>\n",
        "#include <ctime>\n",
        "#include <algorithm>\n",
        "using namespace std;\n",
        "\n",
        "int main () {          //N inst exec by line executed\n",
        "    srand(time(NULL));\n",
        "    long long ins = 1;\n",
        "    for (int i = 0; i < 20; ++i) {\n",
        "        ins+=2;\n",
        "        int n = rand() % 19+4;\n",
        "        ins++;\n",
        "        vector<int> numbers(n);\n",
        "        ins+=n;\n",
        "        for (int j = 0; j < n; ++j) {\n",
        "            ins+=2;\n",
        "            numbers[j] = rand() % 1000;\n",
        "            ins++;\n",
        "        }        \n",
        "\n",
        "        int index = 1;\n",
        "        ins++;\n",
        "        for(int j = 2; j < n; j++){\n",
        "            ins+=2;\n",
        "            ins++;\n",
        "            if(numbers[j] > numbers[index]){\n",
        "                index = j;\n",
        "                ins++;\n",
        "            }\n",
        "            int temp = numbers[index];\n",
        "            ins++;\n",
        "            numbers[index] = numbers[n - 1];\n",
        "            ins++;\n",
        "            numbers[n - 1] = temp;\n",
        "            ins++;\n",
        "        }\n",
        "        for(int j = 2; j < n - 1; j++){\n",
        "            ins+=2;\n",
        "            ins++;\n",
        "            if(numbers[j] > numbers[index]){\n",
        "                index = j;\n",
        "                ins++;\n",
        "            }\n",
        "            int temp = numbers[index];\n",
        "            ins++;\n",
        "            numbers[index] = numbers[n - 2];\n",
        "            ins++;\n",
        "            numbers[n - 2] = temp;\n",
        "            ins++;\n",
        "        }\n",
        "        long long ans = (long long)numbers[n-1] * numbers[n-2];\n",
        "        ins++;\n",
        "        for(int j = 0; j < n; j++){\n",
        "            ins+=2;\n",
        "            cout << numbers[j] << \" \";\n",
        "            ins++;\n",
        "        }\n",
        "        cout << \": MaxPairwiseProduct = \" << ans << \"\\n\";\n",
        "        ins++;\n",
        "    }\n",
        "    cout << \"\\nEXECUTED INSTRUCTIONS: \" << ins << endl;\n",
        "    return 0;\n",
        "}"
      ],
      "execution_count": null,
      "outputs": [
        {
          "output_type": "stream",
          "name": "stdout",
          "text": [
            "Overwriting super_efficient_solution_stress_test.cpp\n"
          ]
        }
      ]
    },
    {
      "cell_type": "markdown",
      "metadata": {
        "id": "fEXj8GHJH5p1"
      },
      "source": [
        "Count executed instructions in code and verify with inputs 1,2 and 3"
      ]
    },
    {
      "cell_type": "code",
      "metadata": {
        "id": "LF1DHjKXIAsF",
        "colab": {
          "base_uri": "https://localhost:8080/"
        },
        "outputId": "d5ee863d-9d41-4559-ca4b-63f1cf123bff"
      },
      "source": [
        "!g++ super_efficient_solution_stress_test.cpp -o super_efficient_solution_stress_test\n",
        "!./super_efficient_solution_stress_test"
      ],
      "execution_count": null,
      "outputs": [
        {
          "output_type": "stream",
          "name": "stdout",
          "text": [
            "301 227 283 588 715 : MaxPairwiseProduct = 420420\n",
            "329 280 538 916 : MaxPairwiseProduct = 492808\n",
            "616 306 481 362 416 331 456 194 205 546 624 817 923 : MaxPairwiseProduct = 754091\n",
            "469 113 131 343 355 593 9 359 533 644 586 498 477 644 973 : MaxPairwiseProduct = 626612\n",
            "825 99 369 548 539 725 222 823 916 : MaxPairwiseProduct = 753868\n",
            "623 17 196 457 993 910 : MaxPairwiseProduct = 903630\n",
            "254 725 214 199 378 574 734 732 : MaxPairwiseProduct = 537288\n",
            "582 352 341 713 593 812 167 : MaxPairwiseProduct = 135604\n",
            "58 81 609 281 158 334 413 781 964 327 : MaxPairwiseProduct = 315228\n",
            "590 372 161 844 703 375 395 789 301 127 168 166 61 872 507 775 817 674 939 959 978 85 : MaxPairwiseProduct = 83130\n",
            "366 530 609 131 362 289 92 254 231 70 415 664 126 143 427 822 444 301 435 915 610 : MaxPairwiseProduct = 558150\n",
            "118 74 477 144 429 489 436 153 63 581 36 25 430 700 593 522 306 666 897 947 : MaxPairwiseProduct = 849459\n",
            "719 661 146 986 217 : MaxPairwiseProduct = 213962\n",
            "422 624 809 433 742 651 787 238 80 698 820 585 762 119 910 621 : MaxPairwiseProduct = 565110\n",
            "673 849 72 453 702 17 54 26 88 623 524 75 284 980 971 : MaxPairwiseProduct = 951580\n",
            "132 2 282 783 : MaxPairwiseProduct = 220806\n",
            "593 215 153 243 357 413 : MaxPairwiseProduct = 147441\n",
            "774 144 677 786 800 538 132 651 228 859 949 : MaxPairwiseProduct = 815191\n",
            "161 201 392 445 524 593 653 9 227 60 144 706 712 772 : MaxPairwiseProduct = 549664\n",
            "418 171 725 865 655 791 441 870 991 : MaxPairwiseProduct = 862170\n",
            "\n",
            "EXECUTED INSTRUCTIONS: 3793\n"
          ]
        }
      ]
    },
    {
      "cell_type": "markdown",
      "metadata": {
        "id": "yae7sSm2IG9U"
      },
      "source": [
        "Calculate estimated time by instruction and number of instructions by second"
      ]
    },
    {
      "cell_type": "code",
      "metadata": {
        "id": "suouY7BYL2dz",
        "colab": {
          "base_uri": "https://localhost:8080/"
        },
        "outputId": "6b417b68-fe90-43cf-9b90-3a58ba322f1e"
      },
      "source": [
        "time_by_instruction = 0.37/2000008\n",
        "print(time_by_instruction)\n",
        "instructions_by_second = 1/time_by_instruction\n",
        "print(instructions_by_second)"
      ],
      "execution_count": null,
      "outputs": [
        {
          "output_type": "stream",
          "name": "stdout",
          "text": [
            "1.8499926000295997e-07\n",
            "5405427.027027028\n"
          ]
        }
      ]
    },
    {
      "cell_type": "markdown",
      "metadata": {
        "id": "LkVxxlhl9H98"
      },
      "source": [
        "# Codeforces problem https://codeforces.com/contest/1619/problem/A \n",
        "\n",
        "Solve the problem in Colab, submit the solution to Codeforces and add a screenshoot of the submission."
      ]
    },
    {
      "cell_type": "code",
      "source": [
        "%%writefile codeforcesProblem.cpp\n",
        "#include <iostream>\n",
        "#include <ostream>\n",
        "\n",
        "using namespace std;\n",
        "\n",
        "bool checkSquareWord(string &s)\n",
        "{\n",
        "    int length = s.length();\n",
        "    int halfLength = length / 2;\n",
        "    if (length % 2 == 1)\n",
        "    {\n",
        "        return false;\n",
        "    }\n",
        "    for (int i = 0; i < halfLength; i++)\n",
        "    {\n",
        "        if (s[i] != s[i + halfLength])\n",
        "        {\n",
        "            return false;\n",
        "        }\n",
        "    }\n",
        "    return true;\n",
        "}\n",
        "\n",
        "int main()\n",
        "{\n",
        "    int n = 0;\n",
        "    cin >> n;\n",
        "\n",
        "    for (int i = 0; i < n; ++i)\n",
        "    {\n",
        "        string s;\n",
        "        cin >> s;\n",
        "        if (checkSquareWord(s))\n",
        "        {\n",
        "            cout << \"YES\" << endl;\n",
        "        }\n",
        "        else\n",
        "        {\n",
        "            cout << \"NO\" << endl;\n",
        "        }\n",
        "    }\n",
        "\n",
        "    return 0;\n",
        "}"
      ],
      "metadata": {
        "colab": {
          "base_uri": "https://localhost:8080/"
        },
        "id": "BT5UDGQ_dc12",
        "outputId": "45c6cecd-43d8-41d6-93f0-1a5409a82f8d"
      },
      "execution_count": null,
      "outputs": [
        {
          "output_type": "stream",
          "name": "stdout",
          "text": [
            "Writing codeforcesProblem.cpp\n"
          ]
        }
      ]
    },
    {
      "cell_type": "code",
      "source": [
        "%%writefile inputCodeforces.txt\n",
        "10\n",
        "a\n",
        "aa\n",
        "aaa\n",
        "aaaa\n",
        "abab\n",
        "abcabc\n",
        "abacaba\n",
        "xxyy\n",
        "xyyx\n",
        "xyxy"
      ],
      "metadata": {
        "colab": {
          "base_uri": "https://localhost:8080/"
        },
        "id": "hh_VqDvZde1D",
        "outputId": "36e5168f-7990-4f18-8e83-cd112ec557d8"
      },
      "execution_count": null,
      "outputs": [
        {
          "output_type": "stream",
          "name": "stdout",
          "text": [
            "Writing inputCodeforces.txt\n"
          ]
        }
      ]
    },
    {
      "cell_type": "code",
      "source": [
        "!g++ codeforcesProblem.cpp -o codeforcesProblem\n",
        "!./codeforcesProblem < inputCodeforces.txt"
      ],
      "metadata": {
        "colab": {
          "base_uri": "https://localhost:8080/"
        },
        "id": "eOMGD4drdiL6",
        "outputId": "47da6a76-5302-4595-c227-dd01d1793772"
      },
      "execution_count": null,
      "outputs": [
        {
          "output_type": "stream",
          "name": "stdout",
          "text": [
            "NO\n",
            "YES\n",
            "NO\n",
            "YES\n",
            "YES\n",
            "YES\n",
            "NO\n",
            "NO\n",
            "NO\n",
            "YES\n"
          ]
        }
      ]
    },
    {
      "cell_type": "markdown",
      "source": [
        "![Captura de pantalla 2023-03-27 093718.png](data:image/png;base64,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)"
      ],
      "metadata": {
        "id": "ZLaumbs1gFrG"
      }
    }
  ]
}