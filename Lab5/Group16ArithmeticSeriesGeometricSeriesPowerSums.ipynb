{
  "nbformat": 4,
  "nbformat_minor": 0,
  "metadata": {
    "colab": {
      "provenance": [],
      "include_colab_link": true
    },
    "kernelspec": {
      "name": "python3",
      "display_name": "Python 3"
    }
  },
  "cells": [
    {
      "cell_type": "markdown",
      "metadata": {
        "id": "view-in-github",
        "colab_type": "text"
      },
      "source": [
        "<a href=\"https://colab.research.google.com/github/glondonot/AlgorithmsUN2023I/blob/main/Lab5/Group16ArithmeticSeriesGeometricSeriesPowerSums.ipynb\" target=\"_parent\"><img src=\"https://colab.research.google.com/assets/colab-badge.svg\" alt=\"Open In Colab\"/></a>"
      ]
    },
    {
      "cell_type": "markdown",
      "metadata": {
        "id": "r4rXWI4gCN5B"
      },
      "source": [
        "# Arithmetic Series\n",
        "\n",
        "## Modified from Arithmetic Series -  [Wolfram MathWorld](https://mathworld.wolfram.com/ArithmeticSeries.html) - [wikipedia](https://en.wikipedia.org/wiki/Arithmetic_progression)\n",
        "\n",
        "\n",
        "An arithmetic sequence $\\{a_k\\}$ for $k=1, 2, ..., $ in which each term is computed from the previous one by adding (or subtracting) a constant $d$. \n",
        "\n",
        "\\begin{align*}\n",
        "a_1 & \\\\\n",
        "a_2 &\\ \\ =\\ \\ a_1 + d  \\\\\n",
        "a_3 &\\ \\ =\\ \\ a_2 + d \\ \\ =\\ \\ a_1 + 2d   \\\\\n",
        "a_4 &\\ \\ =\\ \\ a_3 + d \\ \\ =\\ \\ a_2 + 2d \\ \\ =\\ \\ a_1 + 3d  \\\\\n",
        "\\vdots\\\\\n",
        "a_k &\\ \\ =\\ \\ a_{(k-1)}+d \\ =\\  a_{(k-2)}+2d \\ =\\  \\ldots \\ =\\  \\ a_1+(k-1)d\n",
        "\\end{align*}\n",
        "\n",
        "Therefore, for $k>=1$,\n",
        "\n",
        "$$ a_k = a_1 + (k-1)d$$\n",
        "\n",
        "With $a_1$ and $d$ given.\n",
        "\n",
        "<br /> \n",
        "\n",
        "The sequence of the partial sum of the first $n$ terms of a sequence is called a series, in the case of an arithemetic sequence the series is called an arithmetic series.\n",
        "\n",
        "If  $a_1= 1$ and $d=1$ we have, the simplest arithmnetic sequence,  the natural numbers sequence $\\{a_k = k \\}$ for  $k=1, 2, ..., $  i.e. the seuqnece\n",
        "$$1, 2, ...,$$\n",
        "The  corresponding series is \n",
        "$$ \n",
        "S_n = 1 + 2+ \\ldots + (n-1)+ n = \\sum_{k=1}^n k\n",
        "$$\n",
        "can be calculated as a function of $n$.\n",
        "\n",
        "Assume that we allign one $S_{n-1}$ with a second  $S_{n-1}$ that have the terms adden reverse order and you add term to term, we have\n",
        "\\begin{array}{llclclclclc}\n",
        "  S_{n-1} &=& 1 &+& 2 &+& \\ldots &+& (n-2) &+& (n-1) \\\\\n",
        "  S_{n-1} &=& (n-1)  &+& (n-2)  &+& \\ldots   &+& 2   &+& 1 \\\\\n",
        "   \\hline \\\\\n",
        "   2S_{n-1} &=& n  &+& n  &+& \\ldots   &+& n   &+& n \\\\\n",
        "\\end{array}\n",
        "so\n",
        "$$  2S_{n-1} = (n-1)n $$\n",
        "then\n",
        "$$  S_{n-1} = \\frac{1}{2} (n-1)n$$\n",
        "therefore \n",
        "$$  S_{n} = \\frac{1}{2} n(n+1)$$\n",
        "\n",
        "\n",
        "\\begin{align*}\n",
        "S_n &= \\sum_{k=1}^n a_k\t\\\\\n",
        "    &= \\sum_{k=1}^n[a_1+(k-1)d]\t\t\\\\\n",
        "    &= na_1 + d \\sum_{k=1}^n(k-1)\t\\\\\n",
        "    &= na_1 + d \\sum_{k=0}^{n-1} k\t\\\\\n",
        "    &= na_1 + d \\sum_{k=1}^{n-1} k\t\\\\\n",
        "    &= na_1 +  \\frac{1}{2} d(n-1)n\\\\\n",
        "\\end{align*}\n",
        "so \n",
        "$$ S_n =  \\frac{1}{2} n[2 a_1 +d(n-1)].$$\n",
        "\n",
        "Note, however, that\n",
        "$$a_1+a_n=a_1+[a_1+d(n-1)]=2a_1+d(n-1),$$ \t\n",
        "so\n",
        "$$S_n = \\frac{1}{2}n(a_1+a_n),$$\n",
        "\n",
        "\n",
        "or $n$ times the arithmetic mean of the first and last terms! This is the trick Gauss used as a schoolboy to solve the problem of summing the integers from $1$ to $100$ given as busy-work by his teacher. While his classmates toiled away doing the addition longhand, Gauss wrote a single number, the correct answer\n",
        "\n",
        "$$\\frac{1}{2}(100)(1+100)=50·101=5050$$ \t\n",
        "on his slate (Burton 1989, pp. 80-81; Hoffman 1998, p. 207). When the answers were examined, Gauss's proved to be the only correct one.\n",
        "\n",
        "<br /> \n",
        "\n",
        "If  the sequence starts at index $0$, $\\{a_k\\}$ for $ k=0, 1, 2, ..., $ we have\n",
        "\n",
        "\\begin{align*}\n",
        "a_0 & \\\\\n",
        "a_1 &\\ \\ =\\ \\ a_0 + d  \\\\\n",
        "a_2 &\\ \\ =\\ \\ a_1 + d \\ \\ =\\ \\ a_0 + 2d   \\\\\n",
        "a_3 &\\ \\ =\\ \\ a_2 + d \\ \\ =\\ \\ a_1 + 2d \\ \\ =\\ \\ a_0 + 3d  \\\\\n",
        "\\vdots\\\\\n",
        "a_k &\\ \\ =\\ \\ a_{(k-1)}+d \\ =\\  a_{(k-2)}+2d \\ =\\  \\ldots \\ = \\  \\ a_1+(k-1)d \\ \\ =\\ \\ a_0+kd\n",
        "\\end{align*}\n",
        "\n",
        "<br /> \n",
        "for given   $a_0$ and $d$.\n",
        "\n",
        "In this case the sum of the terms between $0$ and $n$ of  the arithemnetic sequence  is then given by\n",
        "\\begin{align*}\n",
        "S_n &= \\sum_{k=0}^{n} a_k\t\\\\\n",
        "    &= \\sum_{k=0}^{n}[a_0+kd]\t\t\\\\\n",
        "    &= (n+1) a_0 + d \\sum_{k=0}^{n} k\t\\\\\n",
        "    &= (n+1) a_0 + d \\sum_{k=1}^{} k\t\\\\\n",
        "    &=(n+1) a_0+  \\frac{1}{2} dn(n+1) \\\\\n",
        "\\end{align*}\n",
        "so \n",
        "$$ S_n =  \\frac{1}{2} (n+1)[2 a_0 + dn].$$\n",
        "<br /> \n",
        "$$ S_n =  \\frac{1}{2} (n+1)[a_0+ a_n].$$\n",
        "\n",
        "\n"
      ]
    },
    {
      "cell_type": "markdown",
      "metadata": {
        "id": "GfBh-QHRcods"
      },
      "source": [
        "### Code\n",
        "####  The simplest arithmetic sequence and series\n",
        "\n",
        "The simplest arithmnetic sequence is \n",
        "\n",
        "\n",
        "$$a_n = 1, 2, ...,$$"
      ]
    },
    {
      "cell_type": "markdown",
      "metadata": {
        "id": "n36eWqEXiktl"
      },
      "source": [
        "The following code plots the first $n = 15$ terms of the simplest arithmnetic sequence \n",
        "$$\\{a_n = n\\} \\text{ for } n =1,2,\\ldots  $$\n",
        "i.e\n",
        "$$\\{a_n = n\\} =1,2,\\ldots $$\n",
        "adn the corresponding terms of the simplest arithmnetic series \n",
        "$$  S_n = 1 + 2+ \\ldots + (n-1)+ n = \\sum_{k=1}^n k=  \\frac{1}{2} n(n+1)$$\n"
      ]
    },
    {
      "cell_type": "markdown",
      "metadata": {
        "id": "_VyGiunIZknK"
      },
      "source": [
        "Plot"
      ]
    },
    {
      "cell_type": "code",
      "metadata": {
        "colab": {
          "base_uri": "https://localhost:8080/",
          "height": 283
        },
        "id": "gx3Q4uo-ONCi",
        "outputId": "ace8323e-31ff-4467-c720-739b33b2557b"
      },
      "source": [
        "import matplotlib.pyplot as plt\n",
        "\n",
        "n = 15\n",
        "S_n = 0\n",
        "Serie_S_n=[]\n",
        "Sequence_a_n =[]\n",
        "for i in range(1,n+1):\n",
        "  S_n = S_n + i\n",
        "  Serie_S_n.append(S_n)\n",
        "  Sequence_a_n.append(i)\n",
        " \n",
        "\n",
        "plt.plot(Serie_S_n, color='black',label='Serie_S_n')\n",
        "plt.plot(Sequence_a_n, color='red',label='Sequence_a_n')\n",
        "plt.legend()\n",
        "\n",
        "\n"
      ],
      "execution_count": null,
      "outputs": [
        {
          "output_type": "execute_result",
          "data": {
            "text/plain": [
              "<matplotlib.legend.Legend at 0x7effd5d0dd50>"
            ]
          },
          "metadata": {},
          "execution_count": 5
        },
        {
          "output_type": "display_data",
          "data": {
            "image/png": "[encoded data removed]",
            "text/plain": [
              "<Figure size 432x288 with 1 Axes>"
            ]
          },
          "metadata": {
            "needs_background": "light"
          }
        }
      ]
    },
    {
      "cell_type": "code",
      "metadata": {
        "colab": {
          "base_uri": "https://localhost:8080/"
        },
        "id": "o2es6b4cysQk",
        "outputId": "2d8875c7-e4c1-49cc-9b38-028475c5f19f"
      },
      "source": [
        "Sequence_a_n"
      ],
      "execution_count": null,
      "outputs": [
        {
          "output_type": "execute_result",
          "data": {
            "text/plain": [
              "[1, 2, 3, 4, 5, 6, 7, 8, 9, 10, 11, 12, 13, 14, 15]"
            ]
          },
          "metadata": {
            "tags": []
          },
          "execution_count": 12
        }
      ]
    },
    {
      "cell_type": "code",
      "metadata": {
        "colab": {
          "base_uri": "https://localhost:8080/"
        },
        "id": "T2VeBOBZ0ibg",
        "outputId": "daaf6544-5edd-4843-a485-505e1a06a3f7"
      },
      "source": [
        "Serie_S_n"
      ],
      "execution_count": null,
      "outputs": [
        {
          "output_type": "execute_result",
          "data": {
            "text/plain": [
              "[1, 3, 6, 10, 15, 21, 28, 36, 45, 55, 66, 78, 91, 105, 120]"
            ]
          },
          "metadata": {
            "tags": []
          },
          "execution_count": 14
        }
      ]
    },
    {
      "cell_type": "markdown",
      "metadata": {
        "id": "0ybfJdHxZGvW"
      },
      "source": [
        "The following code computes the  $n=10000000$  term of the airthmetic series\n",
        "$$  S_n = 1 + 2+ \\ldots + (n-1)+ n = \\sum_{k=1}^n =  \\frac{1}{2} n(n+1)$$"
      ]
    },
    {
      "cell_type": "code",
      "metadata": {
        "colab": {
          "base_uri": "https://localhost:8080/"
        },
        "id": "99xYHDQycnol",
        "outputId": "a21e2f92-385a-4cea-910f-7e32bafd11e4"
      },
      "source": [
        "n = 10000000\n",
        "S_n = 0\n",
        "for i in range(1,n+1):  # range(n+1) goes form 1 to n\n",
        "  S_n = S_n + i \n",
        "print(S_n)"
      ],
      "execution_count": null,
      "outputs": [
        {
          "output_type": "stream",
          "text": [
            "50000005000000\n"
          ],
          "name": "stdout"
        }
      ]
    },
    {
      "cell_type": "code",
      "metadata": {
        "colab": {
          "base_uri": "https://localhost:8080/"
        },
        "id": "RGCSuDGHeFwH",
        "outputId": "e1d60652-ce77-4933-a4dc-fa178257f349"
      },
      "source": [
        "(1/2)*n*(n+1)"
      ],
      "execution_count": null,
      "outputs": [
        {
          "output_type": "execute_result",
          "data": {
            "text/plain": [
              "50000005000000.0"
            ]
          },
          "metadata": {
            "tags": []
          },
          "execution_count": 8
        }
      ]
    },
    {
      "cell_type": "markdown",
      "metadata": {
        "id": "bg8zxAhcecpk"
      },
      "source": [
        "The following code computes the $n=10000000$ term of the airthmetic series \n",
        "$$ S_n  = \\sum_{k=1}^n a_k$$\n",
        "\n",
        "<br /> \n",
        "for the airthmetic sequence $a_k = 10 + 3 (k-1) $ for $k=1,2,\\ldots$\n",
        "\n",
        "<br /> \n",
        "$$ 10,13,16,19,21,\\ldots$$\n"
      ]
    },
    {
      "cell_type": "markdown",
      "metadata": {
        "id": "hg3ixQ3bZiVh"
      },
      "source": [
        "Plot"
      ]
    },
    {
      "cell_type": "code",
      "metadata": {
        "colab": {
          "base_uri": "https://localhost:8080/"
        },
        "id": "w8FP1XqSgnie",
        "outputId": "4a81915d-b3b6-4089-cb05-5a46b03ba87f"
      },
      "source": [
        "n = 10000000\n",
        "a = 10\n",
        "d = 3\n",
        "S_n = 0\n",
        "for i in range(1,n+1):  # range(n+19 goes form 1 to n\n",
        "  a_n = a + d * (i-1) \n",
        "  S_n = S_n + a_n\n",
        "print(S_n)"
      ],
      "execution_count": null,
      "outputs": [
        {
          "output_type": "stream",
          "text": [
            "150000085000000\n"
          ],
          "name": "stdout"
        }
      ]
    },
    {
      "cell_type": "code",
      "metadata": {
        "colab": {
          "base_uri": "https://localhost:8080/"
        },
        "id": "g_38RfB_hgg2",
        "outputId": "088f349a-3f72-4e5d-b977-30b61ddcbb25"
      },
      "source": [
        "n*(2*a +d*(n-1))/2"
      ],
      "execution_count": null,
      "outputs": [
        {
          "output_type": "execute_result",
          "data": {
            "text/plain": [
              "150000085000000.0"
            ]
          },
          "metadata": {
            "tags": []
          },
          "execution_count": 25
        }
      ]
    },
    {
      "cell_type": "code",
      "metadata": {
        "colab": {
          "base_uri": "https://localhost:8080/"
        },
        "id": "zS3qb_xE1u58",
        "outputId": "3a90e3cb-788b-49cc-db02-6b53b4d092d9"
      },
      "source": [
        "n*(a +a_n)/2"
      ],
      "execution_count": null,
      "outputs": [
        {
          "output_type": "execute_result",
          "data": {
            "text/plain": [
              "150000085000000.0"
            ]
          },
          "metadata": {
            "tags": []
          },
          "execution_count": 26
        }
      ]
    },
    {
      "cell_type": "code",
      "metadata": {
        "colab": {
          "base_uri": "https://localhost:8080/",
          "height": 285
        },
        "id": "7qesKez70zub",
        "outputId": "cd0c0a7a-936e-417d-8653-5aa6c817d4c1"
      },
      "source": [
        "import matplotlib.pyplot as plt\n",
        "\n",
        "n = 20\n",
        "a = 10\n",
        "d = 3\n",
        "S_n = 0\n",
        "Serie_S_n=[]\n",
        "Sequence_a_n =[]\n",
        "for i in range(1,n+1):  # range(n+19 goes form 1 to n\n",
        "  a_n = a + d * (i-1) \n",
        "  S_n = S_n + a_n\n",
        "  Serie_S_n.append(S_n)\n",
        "  Sequence_a_n.append(a_n)\n",
        "\n",
        "plt.plot(Serie_S_n, color='black',label='Serie_S_n')\n",
        "plt.plot(Sequence_a_n, color='red',label='Sequence_a_n')\n",
        "plt.legend()"
      ],
      "execution_count": null,
      "outputs": [
        {
          "output_type": "execute_result",
          "data": {
            "text/plain": [
              "<matplotlib.legend.Legend at 0x7f4135d81d10>"
            ]
          },
          "metadata": {
            "tags": []
          },
          "execution_count": 22
        },
        {
          "output_type": "display_data",
          "data": {
            "image/png": "[encoded data removed]",
            "text/plain": [
              "<Figure size 432x288 with 1 Axes>"
            ]
          },
          "metadata": {
            "tags": [],
            "needs_background": "light"
          }
        }
      ]
    },
    {
      "cell_type": "markdown",
      "metadata": {
        "id": "r9qzONSlZq2q"
      },
      "source": [
        "## Your own example of arithmetic series "
      ]
    },
    {
      "cell_type": "markdown",
      "source": [
        "**EXAMPLE 1**"
      ],
      "metadata": {
        "id": "yywkOKGK0pog"
      }
    },
    {
      "cell_type": "markdown",
      "metadata": {
        "id": "mqngsnZKQsN0"
      },
      "source": [
        "Let $b_{n}=27*(4n-1)$, the following code will compute:\n",
        "$$S_{n}=\\sum_{k=1}^{n}b_{k}$$\n",
        "for $n = 20000000$"
      ]
    },
    {
      "cell_type": "code",
      "execution_count": null,
      "metadata": {
        "id": "tTMc0l62QsN0",
        "outputId": "61a006cf-3350-4956-de1e-954a18157fb2"
      },
      "outputs": [
        {
          "name": "stdout",
          "output_type": "stream",
          "text": [
            "21600000540000000\n"
          ]
        }
      ],
      "source": [
        "n = 20000000\n",
        "S_n = 0\n",
        "for k in range(1,n+1):  # range(n+19 goes form 1 to n\n",
        "  S_n += 27*(4*k-1)\n",
        "print(S_n)"
      ]
    },
    {
      "cell_type": "code",
      "execution_count": null,
      "metadata": {
        "id": "3hWwLbfiQsN0",
        "outputId": "46b8259a-4c5f-466e-eb57-1266be306dd1"
      },
      "outputs": [
        {
          "data": {
            "image/png": "[encoded data removed]",
            "text/plain": [
              "<Figure size 432x288 with 1 Axes>"
            ]
          },
          "metadata": {
            "needs_background": "light"
          },
          "output_type": "display_data"
        }
      ],
      "source": [
        "n = 100\n",
        "S_n = 0\n",
        "Serie_S_n=[]\n",
        "Sequence_a_n =[]\n",
        "for k in range(1,n+1):  # range(n+19 goes form 1 to n\n",
        "  S_n += 27*(4*k-1)\n",
        "  Serie_S_n.append(S_n)\n",
        "  Sequence_a_n.append(27*(4*k-1))\n",
        "\n",
        "plt.plot(Serie_S_n, color='black',label='Serie_S_n')\n",
        "plt.plot(Sequence_a_n, color='red',label='Sequence_a_n')\n",
        "plt.legend();"
      ]
    },
    {
      "cell_type": "markdown",
      "source": [
        "**EXAMPLE 2**"
      ],
      "metadata": {
        "id": "QWgG9WZS2o6X"
      }
    },
    {
      "cell_type": "markdown",
      "source": [
        "Let n = 500 for the arithmetic sequence $a_k = 59 + 11 (k-1) $ for $k=1,2,\\ldots$ $$ 59,70,81,92\\ldots$$\n",
        "\n",
        "$$  S_n = 59 + 70+ \\ldots + (n-1)+ n = \\sum_{k=1}^n 59+6*(k-1)=  \\frac{1}{2} (  2*59+11(500-1)$$"
      ],
      "metadata": {
        "id": "cA2DoHTsaBvX"
      }
    },
    {
      "cell_type": "code",
      "source": [
        "n =500\n",
        "a = 59\n",
        "d=11\n",
        "Sn = 0\n",
        "Seq_a_n = []\n",
        "Serie_a_n = []\n",
        "for i in range(1,n+1):\n",
        "  an = a + (d *(i-1))\n",
        "  Sn = Sn + an\n",
        "  Seq_a_n.append(an)\n",
        "  Serie_a_n.append(Sn)\n",
        "print(\"Secuencia: \" ,Seq_a_n)\n",
        "print(\"Serie: \",Serie_a_n)\n",
        "print(\"Serie :\",n*(2*a +d*(n-1))/2)"
      ],
      "metadata": {
        "colab": {
          "base_uri": "https://localhost:8080/"
        },
        "id": "0e_P2PG0aBj4",
        "outputId": "6a182a2e-85aa-42aa-bc6f-bd3081d80ad7"
      },
      "execution_count": null,
      "outputs": [
        {
          "output_type": "stream",
          "name": "stdout",
          "text": [
            "Secuencia:  [59, 70, 81, 92, 103, 114, 125, 136, 147, 158, 169, 180, 191, 202, 213, 224, 235, 246, 257, 268, 279, 290, 301, 312, 323, 334, 345, 356, 367, 378, 389, 400, 411, 422, 433, 444, 455, 466, 477, 488, 499, 510, 521, 532, 543, 554, 565, 576, 587, 598, 609, 620, 631, 642, 653, 664, 675, 686, 697, 708, 719, 730, 741, 752, 763, 774, 785, 796, 807, 818, 829, 840, 851, 862, 873, 884, 895, 906, 917, 928, 939, 950, 961, 972, 983, 994, 1005, 1016, 1027, 1038, 1049, 1060, 1071, 1082, 1093, 1104, 1115, 1126, 1137, 1148, 1159, 1170, 1181, 1192, 1203, 1214, 1225, 1236, 1247, 1258, 1269, 1280, 1291, 1302, 1313, 1324, 1335, 1346, 1357, 1368, 1379, 1390, 1401, 1412, 1423, 1434, 1445, 1456, 1467, 1478, 1489, 1500, 1511, 1522, 1533, 1544, 1555, 1566, 1577, 1588, 1599, 1610, 1621, 1632, 1643, 1654, 1665, 1676, 1687, 1698, 1709, 1720, 1731, 1742, 1753, 1764, 1775, 1786, 1797, 1808, 1819, 1830, 1841, 1852, 1863, 1874, 1885, 1896, 1907, 1918, 1929, 1940, 1951, 1962, 1973, 1984, 1995, 2006, 2017, 2028, 2039, 2050, 2061, 2072, 2083, 2094, 2105, 2116, 2127, 2138, 2149, 2160, 2171, 2182, 2193, 2204, 2215, 2226, 2237, 2248, 2259, 2270, 2281, 2292, 2303, 2314, 2325, 2336, 2347, 2358, 2369, 2380, 2391, 2402, 2413, 2424, 2435, 2446, 2457, 2468, 2479, 2490, 2501, 2512, 2523, 2534, 2545, 2556, 2567, 2578, 2589, 2600, 2611, 2622, 2633, 2644, 2655, 2666, 2677, 2688, 2699, 2710, 2721, 2732, 2743, 2754, 2765, 2776, 2787, 2798, 2809, 2820, 2831, 2842, 2853, 2864, 2875, 2886, 2897, 2908, 2919, 2930, 2941, 2952, 2963, 2974, 2985, 2996, 3007, 3018, 3029, 3040, 3051, 3062, 3073, 3084, 3095, 3106, 3117, 3128, 3139, 3150, 3161, 3172, 3183, 3194, 3205, 3216, 3227, 3238, 3249, 3260, 3271, 3282, 3293, 3304, 3315, 3326, 3337, 3348, 3359, 3370, 3381, 3392, 3403, 3414, 3425, 3436, 3447, 3458, 3469, 3480, 3491, 3502, 3513, 3524, 3535, 3546, 3557, 3568, 3579, 3590, 3601, 3612, 3623, 3634, 3645, 3656, 3667, 3678, 3689, 3700, 3711, 3722, 3733, 3744, 3755, 3766, 3777, 3788, 3799, 3810, 3821, 3832, 3843, 3854, 3865, 3876, 3887, 3898, 3909, 3920, 3931, 3942, 3953, 3964, 3975, 3986, 3997, 4008, 4019, 4030, 4041, 4052, 4063, 4074, 4085, 4096, 4107, 4118, 4129, 4140, 4151, 4162, 4173, 4184, 4195, 4206, 4217, 4228, 4239, 4250, 4261, 4272, 4283, 4294, 4305, 4316, 4327, 4338, 4349, 4360, 4371, 4382, 4393, 4404, 4415, 4426, 4437, 4448, 4459, 4470, 4481, 4492, 4503, 4514, 4525, 4536, 4547, 4558, 4569, 4580, 4591, 4602, 4613, 4624, 4635, 4646, 4657, 4668, 4679, 4690, 4701, 4712, 4723, 4734, 4745, 4756, 4767, 4778, 4789, 4800, 4811, 4822, 4833, 4844, 4855, 4866, 4877, 4888, 4899, 4910, 4921, 4932, 4943, 4954, 4965, 4976, 4987, 4998, 5009, 5020, 5031, 5042, 5053, 5064, 5075, 5086, 5097, 5108, 5119, 5130, 5141, 5152, 5163, 5174, 5185, 5196, 5207, 5218, 5229, 5240, 5251, 5262, 5273, 5284, 5295, 5306, 5317, 5328, 5339, 5350, 5361, 5372, 5383, 5394, 5405, 5416, 5427, 5438, 5449, 5460, 5471, 5482, 5493, 5504, 5515, 5526, 5537, 5548]\n",
            "Serie:  [59, 129, 210, 302, 405, 519, 644, 780, 927, 1085, 1254, 1434, 1625, 1827, 2040, 2264, 2499, 2745, 3002, 3270, 3549, 3839, 4140, 4452, 4775, 5109, 5454, 5810, 6177, 6555, 6944, 7344, 7755, 8177, 8610, 9054, 9509, 9975, 10452, 10940, 11439, 11949, 12470, 13002, 13545, 14099, 14664, 15240, 15827, 16425, 17034, 17654, 18285, 18927, 19580, 20244, 20919, 21605, 22302, 23010, 23729, 24459, 25200, 25952, 26715, 27489, 28274, 29070, 29877, 30695, 31524, 32364, 33215, 34077, 34950, 35834, 36729, 37635, 38552, 39480, 40419, 41369, 42330, 43302, 44285, 45279, 46284, 47300, 48327, 49365, 50414, 51474, 52545, 53627, 54720, 55824, 56939, 58065, 59202, 60350, 61509, 62679, 63860, 65052, 66255, 67469, 68694, 69930, 71177, 72435, 73704, 74984, 76275, 77577, 78890, 80214, 81549, 82895, 84252, 85620, 86999, 88389, 89790, 91202, 92625, 94059, 95504, 96960, 98427, 99905, 101394, 102894, 104405, 105927, 107460, 109004, 110559, 112125, 113702, 115290, 116889, 118499, 120120, 121752, 123395, 125049, 126714, 128390, 130077, 131775, 133484, 135204, 136935, 138677, 140430, 142194, 143969, 145755, 147552, 149360, 151179, 153009, 154850, 156702, 158565, 160439, 162324, 164220, 166127, 168045, 169974, 171914, 173865, 175827, 177800, 179784, 181779, 183785, 185802, 187830, 189869, 191919, 193980, 196052, 198135, 200229, 202334, 204450, 206577, 208715, 210864, 213024, 215195, 217377, 219570, 221774, 223989, 226215, 228452, 230700, 232959, 235229, 237510, 239802, 242105, 244419, 246744, 249080, 251427, 253785, 256154, 258534, 260925, 263327, 265740, 268164, 270599, 273045, 275502, 277970, 280449, 282939, 285440, 287952, 290475, 293009, 295554, 298110, 300677, 303255, 305844, 308444, 311055, 313677, 316310, 318954, 321609, 324275, 326952, 329640, 332339, 335049, 337770, 340502, 343245, 345999, 348764, 351540, 354327, 357125, 359934, 362754, 365585, 368427, 371280, 374144, 377019, 379905, 382802, 385710, 388629, 391559, 394500, 397452, 400415, 403389, 406374, 409370, 412377, 415395, 418424, 421464, 424515, 427577, 430650, 433734, 436829, 439935, 443052, 446180, 449319, 452469, 455630, 458802, 461985, 465179, 468384, 471600, 474827, 478065, 481314, 484574, 487845, 491127, 494420, 497724, 501039, 504365, 507702, 511050, 514409, 517779, 521160, 524552, 527955, 531369, 534794, 538230, 541677, 545135, 548604, 552084, 555575, 559077, 562590, 566114, 569649, 573195, 576752, 580320, 583899, 587489, 591090, 594702, 598325, 601959, 605604, 609260, 612927, 616605, 620294, 623994, 627705, 631427, 635160, 638904, 642659, 646425, 650202, 653990, 657789, 661599, 665420, 669252, 673095, 676949, 680814, 684690, 688577, 692475, 696384, 700304, 704235, 708177, 712130, 716094, 720069, 724055, 728052, 732060, 736079, 740109, 744150, 748202, 752265, 756339, 760424, 764520, 768627, 772745, 776874, 781014, 785165, 789327, 793500, 797684, 801879, 806085, 810302, 814530, 818769, 823019, 827280, 831552, 835835, 840129, 844434, 848750, 853077, 857415, 861764, 866124, 870495, 874877, 879270, 883674, 888089, 892515, 896952, 901400, 905859, 910329, 914810, 919302, 923805, 928319, 932844, 937380, 941927, 946485, 951054, 955634, 960225, 964827, 969440, 974064, 978699, 983345, 988002, 992670, 997349, 1002039, 1006740, 1011452, 1016175, 1020909, 1025654, 1030410, 1035177, 1039955, 1044744, 1049544, 1054355, 1059177, 1064010, 1068854, 1073709, 1078575, 1083452, 1088340, 1093239, 1098149, 1103070, 1108002, 1112945, 1117899, 1122864, 1127840, 1132827, 1137825, 1142834, 1147854, 1152885, 1157927, 1162980, 1168044, 1173119, 1178205, 1183302, 1188410, 1193529, 1198659, 1203800, 1208952, 1214115, 1219289, 1224474, 1229670, 1234877, 1240095, 1245324, 1250564, 1255815, 1261077, 1266350, 1271634, 1276929, 1282235, 1287552, 1292880, 1298219, 1303569, 1308930, 1314302, 1319685, 1325079, 1330484, 1335900, 1341327, 1346765, 1352214, 1357674, 1363145, 1368627, 1374120, 1379624, 1385139, 1390665, 1396202, 1401750]\n",
            "Serie : 1401750.0\n"
          ]
        }
      ]
    },
    {
      "cell_type": "code",
      "source": [
        "import matplotlib.pyplot as plt\n",
        "\n",
        "plt.plot(Serie_a_n, color='black',label='Serie_S_5')\n",
        "plt.plot(Seq_a_n, color='red',label='Sequence_a_5')\n",
        "plt.legend()"
      ],
      "metadata": {
        "colab": {
          "base_uri": "https://localhost:8080/",
          "height": 293
        },
        "id": "ZFC_VJjjbdXS",
        "outputId": "5c5f0052-876e-4a5a-c2f4-85ce754d1b53"
      },
      "execution_count": null,
      "outputs": [
        {
          "output_type": "execute_result",
          "data": {
            "text/plain": [
              "<matplotlib.legend.Legend at 0x7fd0142299d0>"
            ]
          },
          "metadata": {},
          "execution_count": 6
        },
        {
          "output_type": "display_data",
          "data": {
            "text/plain": [
              "<Figure size 432x288 with 1 Axes>"
            ],
            "image/png": "[encoded data removed]"
          },
          "metadata": {
            "needs_background": "light"
          }
        }
      ]
    },
    {
      "cell_type": "markdown",
      "metadata": {
        "id": "AKWJ1F7hac8T"
      },
      "source": [
        "# Geometric Series\n",
        "\n",
        "## Modified from Geometric Series -  [Wolfram MathWorld](https://mathworld.wolfram.com/GeometricSeries.html) - [wikipedia](https://en.wikipedia.org/wiki/Geometric_series)\n"
      ]
    },
    {
      "cell_type": "markdown",
      "metadata": {
        "id": "W5zx_-nR81GI"
      },
      "source": [
        "An geometric series is the sum of a sequence $\\{a_k\\}$ for $k=1, 2, ..., $ in which each term is computed from the previous one by adding (or subtracting) a constant $d$. \n",
        "\n",
        "\\begin{align*}\n",
        "a_0 &\\ \\ =\\ \\ r^0 \\ \\ =\\ \\ 1\\\\\n",
        "a_1 &\\ \\ =\\ \\ a_0 *  r \\ \\ =\\ \\  r\\\\\n",
        "a_2 &\\ \\ =\\ \\ a_1 * r\\ \\ =\\ \\ a_0 * r^2  \\ \\ =\\ \\ r^2 \\\\\n",
        "a_3 &\\ \\ =\\ \\ a_2 * r \\ \\ =\\ \\ a_0 * r^3 \\ \\ =\\ \\  r^3  \\\\\n",
        "a_4 &\\ \\ =\\ \\ a_3 * r\\ \\  =\\ \\ a_0 * r^4 \\ \\  =\\ \\ r^4  \\\\\n",
        "\\vdots\\\\\n",
        "a_k &\\ \\ =\\ \\ a_{(k-1)}* r \\ =\\   a_0 * r^k \\ \\  =\\ \\  r^k\n",
        "\\end{align*}\n",
        "\n",
        "The sum of the first $n$ terms  of  the geometric sequence (called an geometric serie)  is then given by\n",
        "$$\n",
        "\\begin{array}{ll}\n",
        "S_n &=  1 + r + r^2 + \\cdots + r^{n-1} +r^n \\\\\n",
        " &=  (1 + r + r^2 + \\cdots + r^{n-1} ) +r^n \\\\\n",
        " &= S_{n-1}  +r^n \n",
        "\\end{array}\n",
        "$$\n",
        "\n",
        "$$\n",
        "\\begin{array}{ll}\n",
        "S_n &=  1 + r + r^2 + \\cdots + r^{n-1} +r^n \\\\\n",
        " &=  1 + (r + r^2 + \\cdots + r^{n-1}  +r^n)  \\\\\n",
        " &=   1 + r (1 +  r  + r^2 + \\cdots + r^{n-1} )  \\\\\n",
        "  &=   1 + r   S_{n-1} \n",
        "\\end{array}\n",
        "$$\n",
        "\n",
        "Then\n",
        "$$\n",
        " S_{n-1}  +r^n =   1 + r   S_{n-1} \n",
        "$$\n",
        "\n",
        "Therefore\n",
        "$$\n",
        " S_{n-1} (1 -r)   +r^n =   1 - r^n \n",
        "$$\n",
        "\n",
        "$$\n",
        " S_{n-1}   =   \\frac{1 - r^n }{1 -r}\n",
        "$$\n",
        "\n",
        "$$\n",
        " S_{n}   =   \\frac{1 - r^{n+1} }{1 -r}  = \\frac{ r^{n+1} - 1}{r -1}\n",
        "$$\n"
      ]
    },
    {
      "cell_type": "markdown",
      "source": [
        "**EXAMPLE 1**"
      ],
      "metadata": {
        "id": "gXygDebz6DX9"
      }
    },
    {
      "cell_type": "code",
      "source": [
        "n= 20\n",
        "a = 1\n",
        "r = 5\n",
        "S_n = 0\n",
        "Serie_S_n=[]\n",
        "Sequence_a_n =[]\n",
        "\n",
        "for i in range(0, n+1):\n",
        "  a_n = a * r**i \n",
        "  S_n = S_n + a_n\n",
        "  Serie_S_n.append(S_n)\n",
        "  Sequence_a_n.append(a_n)\n",
        "print(S_n)\n",
        "\n",
        "plt.plot(Serie_S_n, color='black',label='Serie_S_n')\n",
        "plt.plot(Sequence_a_n, color='red',label='Sequence_a_n')\n",
        "plt.legend()"
      ],
      "metadata": {
        "colab": {
          "base_uri": "https://localhost:8080/",
          "height": 311
        },
        "id": "nR7WGuh1bJ1l",
        "outputId": "31502a65-c6a9-4ad5-c35c-72721aaba9c9"
      },
      "execution_count": null,
      "outputs": [
        {
          "output_type": "stream",
          "name": "stdout",
          "text": [
            "12207031\n"
          ]
        },
        {
          "output_type": "execute_result",
          "data": {
            "text/plain": [
              "<matplotlib.legend.Legend at 0x7fbddf3a6710>"
            ]
          },
          "metadata": {},
          "execution_count": 26
        },
        {
          "output_type": "display_data",
          "data": {
            "text/plain": [
              "<Figure size 432x288 with 1 Axes>"
            ],
            "image/png": "[encoded data removed]"
          },
          "metadata": {
            "needs_background": "light"
          }
        }
      ]
    },
    {
      "cell_type": "markdown",
      "source": [
        "**EXAMPLE 2**"
      ],
      "metadata": {
        "id": "_JWujwd87NF0"
      }
    },
    {
      "cell_type": "code",
      "source": [
        "n= 10\n",
        "a = 2\n",
        "r = 1/2\n",
        "S_n = 0\n",
        "Serie_S_n=[]\n",
        "Sequence_a_n =[]\n",
        "for i in range(0, n+1):\n",
        "  a_n = a * r**i \n",
        "  S_n = S_n + a_n\n",
        "  Serie_S_n.append(S_n)\n",
        "  Sequence_a_n.append(a_n)\n",
        "print(S_n)\n",
        "\n",
        "plt.plot(Serie_S_n, color='black',label='Serie_S_n')\n",
        "plt.plot(Sequence_a_n, color='red',label='Sequence_a_n')\n",
        "plt.legend()"
      ],
      "metadata": {
        "colab": {
          "base_uri": "https://localhost:8080/",
          "height": 282
        },
        "id": "1uTXC0jyX4xW",
        "outputId": "d951956b-7b0b-4ae6-fe04-b2d665bb6cbc"
      },
      "execution_count": null,
      "outputs": [
        {
          "output_type": "execute_result",
          "data": {
            "text/plain": [
              "<matplotlib.legend.Legend at 0x7f3096c1ac90>"
            ]
          },
          "metadata": {},
          "execution_count": 80
        },
        {
          "output_type": "display_data",
          "data": {
            "text/plain": [
              "<Figure size 432x288 with 1 Axes>"
            ],
            "image/png": "[encoded data removed]"
          },
          "metadata": {
            "needs_background": "light"
          }
        }
      ]
    },
    {
      "cell_type": "markdown",
      "metadata": {
        "id": "CDUYfT8k8crr"
      },
      "source": [
        "## Nodes in Complete Binary Tree with $L=0,1,2,\\cdots , L-1$ levels \n",
        "\n",
        "![](https://raw.githubusercontent.com/gjhernandezp/algorithms/master/Lab7/ComBinTree.png)\n",
        "\n",
        "In a complete binary tree you have in ecah level $k =0,1,2,\\cdots $  $ 2^k $\n",
        "\n",
        "$$\n",
        "\\begin{array}{ll}\n",
        "\\text {Level } 0 \\rightarrow 2^0 = 1 \\text { node (root)} \\\\\n",
        "\\text {Level } 1 \\rightarrow 2^1 = 2 \\text { nodes} \\\\\n",
        "\\text {Level } 2 \\rightarrow 2^2 = 4 \\text { nodes} \\\\\n",
        "\\text {Level } 3 \\rightarrow 2^3 = 8 \\text { nodes} \\\\\n",
        "\\vdots\\\\\n",
        "\\text {Level } k \\rightarrow 2^k  \\text { nodes} \\\\\n",
        "\\end{array}\n",
        "$$\n",
        "\n",
        "nodes, with $l = 0,1,2, ... $ the level\n",
        "\n",
        "Total number of the complte tree with $L=0,1,2,\\cdots , L-1$ levels\n",
        "\n",
        "$$ \n",
        "2^0 + 2^1 + 2^2 + \\cdots +2^{L-1}  = 1 + 2 + 4 + \\cdots +2^{L-1} = \\sum_{k=0}^{L-1} 2^k = \\frac{ 2^{L} - 1}{2 -1} = 2^{L} - 1\n",
        "$$"
      ]
    },
    {
      "cell_type": "markdown",
      "metadata": {
        "id": "YiWlrhLZNMX9"
      },
      "source": [
        "### Code"
      ]
    },
    {
      "cell_type": "code",
      "metadata": {
        "id": "YvMkYU8UNOll"
      },
      "source": [
        "## sumatoria de nodos para 50 niveles\n",
        "\n",
        "L = 51\n",
        "n = L-1\n",
        "S_n = 0\n",
        "for i in range(n):\n",
        "  a_n = 2**i \n",
        "  S_n = S_n + a_n\n",
        "print(\"La sumatoria de nodos para \",L,\" niveles es igual a: \",S_n)"
      ],
      "execution_count": null,
      "outputs": []
    },
    {
      "cell_type": "markdown",
      "metadata": {
        "id": "Dd3RWDwJe2xD"
      },
      "source": [
        "## Zenon Arrow\n",
        "\n",
        "![](https://raw.githubusercontent.com/gjhernandezp/algorithms/master/Lab7/zeno-paradox-arrow.png)\n",
        "\n",
        "https://leseditionsdeschavonnes.com/2018/10/15/the-paradox-of-achilles-and-the-tortoise/\n",
        "\n",
        "\n",
        "\n",
        "$$ \n",
        "\\lim_{n\\rightarrow \\infty} \\left\\{\\left(\\frac{1}{2}\\right)^0 + \\left(\\frac{1}{2}\\right)^1 +\\left(\\frac{1}{2}\\right)^2 + \\cdots +\\left(\\frac{1}{2}\\right)^{n} \\right\\} = \\lim_{n\\rightarrow \\infty} \\left\\{ 1 +\\frac{1}{2} + \\frac{1}{4} + \\frac{1}{8} + \\cdots +\\frac{1}{2^{n}}\\right\\}  = \\lim_{n\\rightarrow \\infty} \\sum_{k=0}^{n} \\left(\\frac{1}{2}\\right)^k = \\lim_{n\\rightarrow \\infty} \\frac{ 1- \\left(\\frac{1}{2}\\right)^n  }{1 - \\left(\\frac{1}{2}\\right) } = \\frac{ 1}{1 - \\left(\\frac{1}{2}\\right)} = 2\n",
        "$$"
      ]
    },
    {
      "cell_type": "markdown",
      "metadata": {
        "id": "R-J4EekBNPkd"
      },
      "source": [
        "### Code"
      ]
    },
    {
      "cell_type": "code",
      "metadata": {
        "id": "8xdBovY3NEW_"
      },
      "source": [
        "S_n = 0\n",
        "for i in range(1000000):\n",
        "    S_n += (1/2)**(i)\n",
        "print(S_n)"
      ],
      "execution_count": null,
      "outputs": []
    },
    {
      "cell_type": "markdown",
      "metadata": {
        "id": "dh2ntBeoNQlN"
      },
      "source": [
        "# Power Sums Power Sums - [Wolfram MathWorld](https://mathworld.wolfram.com/PowerSum.html) - [wikipedia](https://en.wikipedia.org/wiki/Sums_of_powers) - [reserachgate](https://www.researchgate.net/publication/331933608_The_Powers_Sums_Bernoulli_Numbers_Bernoulli_Polynomials_Rethinked)\n",
        "\n"
      ]
    },
    {
      "cell_type": "markdown",
      "source": [
        "There are two kinds of power sums commonly considered. The first is the sum of pth powers of a set of n variables $x_k$,\n",
        "\n",
        "\\begin{align*}\n",
        "  S_{p}(x_{1}, ..., x_{n}) = \\sum_{n}^{k=1}x_{k}^{p}\n",
        "\\end{align*}\n",
        "\n",
        "nd the second is the special case $x_k=k$, i.e.,\n",
        "\n",
        "\\begin{align*}\n",
        "  S_{p}(n)= \\sum_{n}^{k=1}k^{p}\n",
        "\\end{align*}\n",
        "\n",
        "General power sums arise commonly in statistics. For example, k-statistics are most commonly defined in terms of power sums. Power sums are related to symmetric polynomials by the Newton-Girard formulas.\n",
        "\n",
        "The sum of k times the kth power of x is given analytically by\n",
        "\n",
        "\\begin{align*}\n",
        "  \\sum_{k=0}^{n}kx^{k} = \\frac{x-(n+1)x^{n+1}+nx^{n+2}}{(x-1)^{2}}\n",
        "\\end{align*}\n",
        "\n",
        "\n",
        "Other analytic sums include\n",
        "\n",
        "\\begin{align*}\n",
        "  (\\sum_{k=0}^{\\infty} x^{k})^{p} = (1-x)^{-p}  \n",
        "\\end{align*}\n",
        "\n",
        "\\begin{align*}\n",
        "  = \\frac{1}{(p-1)!} \\sum_{n=0}^{\\infty}(n+1)_{p-1}x^{n}\n",
        "\\end{align*}\n",
        "\n",
        "for $|x|<1$, where $(n)_p$ is a Pochhammer symbol. The finite version has the elegant closed form\n",
        "\n",
        "\\begin{align*}\n",
        "  (\\sum_{k=0}^{\\infty} x^{k})^{p} = \\frac{1}{(p-1)!} \\sum_{k=0}^{np} \\frac{(n-|n-k|+p-1)!}{(n-|n-k|)!}x^{k}\n",
        "\\end{align*}\n",
        "\n",
        "\n",
        "for $p=1$ and 2. An additional sum is given by\n",
        "\n",
        "\\begin{align*}\n",
        "  (\\sum_{n=0}^{\\infty} a_{n}x^{n})^{2} = \\sum_{n=0}^{\\infty} a_{n}^{2}x^{2n} + 2 \\sum_{n=1}^{\\infty}a_{i}a_{j}x^{n}\n",
        "\\end{align*}\n",
        "\n",
        "An analytic solution for a sum of powers of integers is\n",
        "\n",
        "\\begin{align*}\n",
        "  S_{p}(n) = \\sum_{k=1}^{n}k^{p} = H_{n}^{-p}\n",
        "\\end{align*}\n",
        "\n",
        "Bernoulli used the property of the figurate number triangle that\n",
        "\n",
        "\\begin{align*}\n",
        "  \\sum_{i=0}^{n}a_{ij} = \\frac{(n+1)a_{nj}}{j+1}\n",
        "\\end{align*}\n",
        "\n",
        "along with a form for a_(nj) which he derived inductively to compute the sums up to n=10 (Boyer 1968, p. 85). For p in $Z>0$, the sum is given by\n",
        "\n",
        "\\begin{align*}\n",
        " \\sum_{k=1}^{n}k^{p} = \\frac{(B + n + 1)^{(p+1)}-B^{(p+1)}}{p+1}\n",
        "\\end{align*}\n",
        "\n",
        "where the notation $B^k$ means the quantity in question is raised to the appropriate power k, and all terms of the form $B^m$ are replaced with the corresponding Bernoulli numbers $B_m$. Written explicitly in terms of a sum of powers,\n",
        "\n",
        "\\begin{align*}\n",
        "  \\sum_{k=1}^{n} k^{p} = \\sum_{k=1}^{p+1}b_{pk}n^{k}\n",
        "\\end{align*}\n",
        "\n",
        "where\n",
        "\n",
        "\\begin{align*}\n",
        "b_{pk} = \\frac{(-1)^{p-k+1}B_{p-k+1}p!}{k!(p-k+1)!}\n",
        "\\end{align*}\n",
        "\n",
        "It is also true that the coefficients of the terms b_(pk) sum to 1,\n",
        "\n",
        "\\begin{align*}\n",
        "  \\sum_{k=1}^{p+1}b_{pk}=1\n",
        "\\end{align*}\n",
        "\n",
        "which Bernoulli stated without proof.\n",
        "\n",
        "A double series solution for $S_p(n)$ is given by\n",
        "\n",
        "\\begin{align*}\n",
        "  S_{p}(n) = \\sum_{i=1}^{p} \\sum_{j=0}^{i-1}(-1)^{j} (i-j)^{p} \\binom{n+p-i+1}{n-i}\\binom{p+1}{j}\n",
        "\\end{align*}"
      ],
      "metadata": {
        "id": "HuBI7IO78Wm6"
      }
    },
    {
      "cell_type": "markdown",
      "source": [
        "**EXAMPLE 1**"
      ],
      "metadata": {
        "id": "9m9k6Snt8B5F"
      }
    },
    {
      "cell_type": "markdown",
      "source": [
        "\\begin{align*}\n",
        "  \\sum_{k=0}^{n}kx^{k} = \\frac{x-(n+1)x^{n+1}+nx^{n+2}}{(x-1)^{2}}\n",
        "\\end{align*}"
      ],
      "metadata": {
        "id": "sVVgj_ESVoAZ"
      }
    },
    {
      "cell_type": "code",
      "source": [
        "import matplotlib.pyplot as plt\n",
        "n = 100\n",
        "x = 2\n",
        "S_n = 0\n",
        "Serie_S_n=[]\n",
        "Sequence_a_n =[]\n",
        "for i in range(1,n+1):  \n",
        "  a_n = i*(x**i)\n",
        "  S_n = S_n + a_n\n",
        "  Serie_S_n.append(S_n)\n",
        "  Sequence_a_n.append(a_n)\n",
        "print(S_n)\n",
        "plt.plot(Serie_S_n, color='black',label='Serie_S_n')\n",
        "plt.plot(Sequence_a_n, color='red',label='Sequence_a_n')\n",
        "plt.legend()"
      ],
      "metadata": {
        "colab": {
          "base_uri": "https://localhost:8080/",
          "height": 293
        },
        "id": "1-CxeKGAVg_A",
        "outputId": "bb26b3fe-5015-4c34-f609-810e17bff8e6"
      },
      "execution_count": null,
      "outputs": [
        {
          "output_type": "execute_result",
          "data": {
            "text/plain": [
              "<matplotlib.legend.Legend at 0x7fbddf41d550>"
            ]
          },
          "metadata": {},
          "execution_count": 25
        },
        {
          "output_type": "display_data",
          "data": {
            "text/plain": [
              "<Figure size 432x288 with 1 Axes>"
            ],
            "image/png": "[encoded data removed]"
          },
          "metadata": {
            "needs_background": "light"
          }
        }
      ]
    },
    {
      "cell_type": "markdown",
      "source": [
        "**EXAMPLE 2**"
      ],
      "metadata": {
        "id": "5ooYO0cg8MR8"
      }
    },
    {
      "cell_type": "code",
      "source": [
        "n = 50\n",
        "S_n = 0\n",
        "Serie_S_n=[]\n",
        "Sequence_a_n =[]\n",
        "for i in range(1,n+1):  \n",
        "  a_n = (i**2)\n",
        "  S_n = S_n + a_n\n",
        "  Serie_S_n.append(S_n)\n",
        "  Sequence_a_n.append(a_n)\n",
        "print(S_n)\n",
        "plt.plot(Serie_S_n, color='black',label='Serie_S_n')\n",
        "plt.plot(Sequence_a_n, color='red',label='Sequence_a_n')\n",
        "plt.legend()"
      ],
      "metadata": {
        "colab": {
          "base_uri": "https://localhost:8080/",
          "height": 300
        },
        "id": "785iXdsNclZf",
        "outputId": "458dbdde-d3a1-4b47-872f-4a969732f875"
      },
      "execution_count": null,
      "outputs": [
        {
          "output_type": "stream",
          "name": "stdout",
          "text": [
            "9455\n"
          ]
        },
        {
          "output_type": "execute_result",
          "data": {
            "text/plain": [
              "<matplotlib.legend.Legend at 0x7fbddee24b90>"
            ]
          },
          "metadata": {},
          "execution_count": 31
        },
        {
          "output_type": "display_data",
          "data": {
            "text/plain": [
              "<Figure size 432x288 with 1 Axes>"
            ],
            "image/png": "[encoded data removed]"
          },
          "metadata": {
            "needs_background": "light"
          }
        }
      ]
    }
  ]
}